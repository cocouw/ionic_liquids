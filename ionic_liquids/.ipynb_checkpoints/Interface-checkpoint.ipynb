{
 "cells": [
  {
   "cell_type": "code",
   "execution_count": 2,
   "metadata": {
    "collapsed": false
   },
   "outputs": [
    {
     "ename": "TabError",
     "evalue": "inconsistent use of tabs and spaces in indentation (methods.py, line 51)",
     "output_type": "error",
     "traceback": [
      "\u001b[0;36m  File \u001b[0;32m\"/Users/SarahsAdventure/GitHub/ionic_liquids/ionic_liquids/methods/methods.py\"\u001b[0;36m, line \u001b[0;32m51\u001b[0m\n\u001b[0;31m    alphas = np.array([5,2,5,1.5,1,0.1,0.01,0.001,0.0001,0])\u001b[0m\n\u001b[0m                                                            ^\u001b[0m\n\u001b[0;31mTabError\u001b[0m\u001b[0;31m:\u001b[0m inconsistent use of tabs and spaces in indentation\n"
     ]
    }
   ],
   "source": [
    "from ipywidgets import interact, interact_manual, HBox, VBox\n",
    "import ipywidgets as widgets\n",
    "from IPython.display import display\n",
    "import numpy as np\n",
    "import pandas as pd\n",
    "import matplotlib.pyplot as plt\n",
    "from visualization import core\n",
    "import utils"
   ]
  },
  {
   "cell_type": "code",
   "execution_count": null,
   "metadata": {
    "collapsed": false
   },
   "outputs": [],
   "source": [
    "data_file = widgets.Text(description='Dataset',placeholder='datasets/inputdata.xlsx')\n",
    "model_select = widgets.Dropdown(options=core.model_types(),value='LASSO',description='Model:',disabled=False)\n",
    "test_withheld = widgets.FloatText(value=20,description='% Test',disabled=False,color='black',width='130px')\n",
    "run_button = widgets.Button(description='Train Model')\n",
    "\n",
    "def run_event(b):\n",
    "    obj, X, y = utils.train_model(model_select.value,data_file.value)\n",
    "    my_plot = core.parity_plot(y,obj.predict(X))\n",
    "    plt.show(my_plot)\n",
    "    \n",
    "run_button.on_click(run_event)"
   ]
  },
  {
   "cell_type": "code",
   "execution_count": null,
   "metadata": {
    "collapsed": false
   },
   "outputs": [],
   "source": [
    "items = [data_file,test_withheld,model_select,run_button]     \n",
    "output = HBox(layout=widgets.Layout(width='95%',display='inline-flex'))\n",
    "output.children = items\n",
    "display(output)"
   ]
  },
  {
   "cell_type": "code",
   "execution_count": 4,
   "metadata": {
    "collapsed": false
   },
   "outputs": [],
   "source": [
    "model_file = widgets.Text(description='Model file',placeholder='datasets/my_model.txt')\n",
    "a_select = widgets.Dropdown(options=['water','methanol'],value='methanol',description='A: ')\n",
    "b_select = widgets.Dropdown(options=['water','methanol'],value='water',description='B: ')\n",
    "temp_slider = widgets.IntSlider(value=298,min=100,max=400,step=1,orientation='horizontal',description='Temp (K)')\n",
    "p_slider = widgets.IntSlider(value=100,min=5,max=400,step=1,orientation='horizontal',description='Pressure (kPa)')\n",
    "gui = VBox(layout=widgets.Layout(width='95%',display='inline-flex'))\n",
    "gui.children = [HBox([model_file,temp_slider,p_slider]),HBox([a_select,b_select])]\n",
    "display(gui)"
   ]
  },
  {
   "cell_type": "code",
   "execution_count": null,
   "metadata": {
    "collapsed": true
   },
   "outputs": [],
   "source": []
  }
 ],
 "metadata": {
  "anaconda-cloud": {},
  "kernelspec": {
   "display_name": "Python [conda root]",
   "language": "python",
   "name": "conda-root-py"
  },
  "language_info": {
   "codemirror_mode": {
    "name": "ipython",
    "version": 3
   },
   "file_extension": ".py",
   "mimetype": "text/x-python",
   "name": "python",
   "nbconvert_exporter": "python",
   "pygments_lexer": "ipython3",
   "version": "3.5.2"
  }
 },
 "nbformat": 4,
 "nbformat_minor": 2
}
