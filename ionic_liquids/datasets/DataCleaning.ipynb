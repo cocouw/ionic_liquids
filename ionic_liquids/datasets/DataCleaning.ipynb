{
 "cells": [
  {
   "cell_type": "code",
   "execution_count": 2,
   "metadata": {
    "collapsed": true
   },
   "outputs": [],
   "source": [
    "import numpy as np\n",
    "import pandas as pd\n"
   ]
  },
  {
   "cell_type": "code",
   "execution_count": 3,
   "metadata": {
    "collapsed": true
   },
   "outputs": [],
   "source": [
    "data = pd.read_excel(\"inputdata.xlsx\")"
   ]
  },
  {
   "cell_type": "code",
   "execution_count": 4,
   "metadata": {
    "collapsed": true
   },
   "outputs": [],
   "source": [
    "data['EC_value'], data['EC_error'] = zip(*data['ELE_COD'].map(lambda x: x.split('±')))"
   ]
  },
  {
   "cell_type": "code",
   "execution_count": 5,
   "metadata": {
    "collapsed": false
   },
   "outputs": [
    {
     "data": {
      "text/html": [
       "<div>\n",
       "<table border=\"1\" class=\"dataframe\">\n",
       "  <thead>\n",
       "    <tr style=\"text-align: right;\">\n",
       "      <th></th>\n",
       "      <th>NUM</th>\n",
       "      <th>A</th>\n",
       "      <th>B</th>\n",
       "      <th>MOLFRC(for A and B)</th>\n",
       "      <th>T</th>\n",
       "      <th>P</th>\n",
       "      <th>ELE_COD</th>\n",
       "      <th>EC_value</th>\n",
       "      <th>EC_error</th>\n",
       "    </tr>\n",
       "  </thead>\n",
       "  <tbody>\n",
       "    <tr>\n",
       "      <th>0</th>\n",
       "      <td>1</td>\n",
       "      <td>[O-]S(=O)(=O)C.c1c[n+](cn1CCCC)C</td>\n",
       "      <td>O</td>\n",
       "      <td>0.004</td>\n",
       "      <td>298.15</td>\n",
       "      <td>101</td>\n",
       "      <td>1.166 ± 0.058</td>\n",
       "      <td>1.166</td>\n",
       "      <td>0.058</td>\n",
       "    </tr>\n",
       "    <tr>\n",
       "      <th>1</th>\n",
       "      <td>2</td>\n",
       "      <td>[O-]S(=O)(=O)C.c1c[n+](cn2CCCC)C</td>\n",
       "      <td>O</td>\n",
       "      <td>0.004</td>\n",
       "      <td>299.15</td>\n",
       "      <td>101</td>\n",
       "      <td>1.203 ± 0.06</td>\n",
       "      <td>1.203</td>\n",
       "      <td>0.06</td>\n",
       "    </tr>\n",
       "    <tr>\n",
       "      <th>2</th>\n",
       "      <td>3</td>\n",
       "      <td>[O-]S(=O)(=O)C.c1c[n+](cn3CCCC)C</td>\n",
       "      <td>O</td>\n",
       "      <td>0.004</td>\n",
       "      <td>300.15</td>\n",
       "      <td>101</td>\n",
       "      <td>1.242 ± 0.062</td>\n",
       "      <td>1.242</td>\n",
       "      <td>0.062</td>\n",
       "    </tr>\n",
       "    <tr>\n",
       "      <th>3</th>\n",
       "      <td>4</td>\n",
       "      <td>[O-]S(=O)(=O)C.c1c[n+](cn4CCCC)C</td>\n",
       "      <td>O</td>\n",
       "      <td>0.004</td>\n",
       "      <td>301.15</td>\n",
       "      <td>101</td>\n",
       "      <td>1.271 ± 0.064</td>\n",
       "      <td>1.271</td>\n",
       "      <td>0.064</td>\n",
       "    </tr>\n",
       "    <tr>\n",
       "      <th>4</th>\n",
       "      <td>5</td>\n",
       "      <td>[O-]S(=O)(=O)C.c1c[n+](cn5CCCC)C</td>\n",
       "      <td>O</td>\n",
       "      <td>0.004</td>\n",
       "      <td>302.15</td>\n",
       "      <td>101</td>\n",
       "      <td>1.289 ± 0.064</td>\n",
       "      <td>1.289</td>\n",
       "      <td>0.064</td>\n",
       "    </tr>\n",
       "  </tbody>\n",
       "</table>\n",
       "</div>"
      ],
      "text/plain": [
       "   NUM                                  A  B  MOLFRC(for A and B)       T  \\\n",
       "0    1   [O-]S(=O)(=O)C.c1c[n+](cn1CCCC)C  O                0.004  298.15   \n",
       "1    2   [O-]S(=O)(=O)C.c1c[n+](cn2CCCC)C  O                0.004  299.15   \n",
       "2    3   [O-]S(=O)(=O)C.c1c[n+](cn3CCCC)C  O                0.004  300.15   \n",
       "3    4   [O-]S(=O)(=O)C.c1c[n+](cn4CCCC)C  O                0.004  301.15   \n",
       "4    5   [O-]S(=O)(=O)C.c1c[n+](cn5CCCC)C  O                0.004  302.15   \n",
       "\n",
       "     P        ELE_COD EC_value EC_error  \n",
       "0  101  1.166 ± 0.058   1.166     0.058  \n",
       "1  101   1.203 ± 0.06   1.203      0.06  \n",
       "2  101  1.242 ± 0.062   1.242     0.062  \n",
       "3  101  1.271 ± 0.064   1.271     0.064  \n",
       "4  101  1.289 ± 0.064   1.289     0.064  "
      ]
     },
     "execution_count": 5,
     "metadata": {},
     "output_type": "execute_result"
    }
   ],
   "source": [
    "data.head()"
   ]
  },
  {
   "cell_type": "code",
   "execution_count": 46,
   "metadata": {
    "collapsed": false
   },
   "outputs": [],
   "source": [
    "import pandas as pd\n",
    "import matplotlib.pyplot as plt\n",
    "import numpy as np\n",
    "from __future__ import print_function\n",
    "from rdkit import Chem\n",
    "from rdkit.Chem import AllChem\n",
    "from rdkit.Chem import Descriptors\n",
    "from rdkit.ML.Descriptors.MoleculeDescriptors import MolecularDescriptorCalculator as Calculator\n",
    "\n",
    "#Setting up for molecular descriptors\n",
    "\n",
    "\n",
    "#the number of atoms\n",
    "num_atoms = m.GetNumAtoms()\n",
    "mol_wt = MolWt\n",
    "exact_mol_wt = ExactMolWt\n",
    "NO_Count = NOCount\n",
    "Num_H_Donors = NumHDonors\n",
    "Ring_count = RingCount\n",
    "Num_Arom_Sat_Ali = Num{Aromatic,Saturated,Aliphatic}Rings\n",
    "\n",
    "\n",
    "#Neural network\n",
    "#gridsearch for paramaters in scikit"
   ]
  },
  {
   "cell_type": "code",
   "execution_count": null,
   "metadata": {
    "collapsed": true
   },
   "outputs": [],
   "source": []
  }
 ],
 "metadata": {
  "anaconda-cloud": {},
  "kernelspec": {
   "display_name": "Python 3",
   "language": "python",
   "name": "python3"
  },
  "language_info": {
   "codemirror_mode": {
    "name": "ipython",
    "version": 3
   },
   "file_extension": ".py",
   "mimetype": "text/x-python",
   "name": "python",
   "nbconvert_exporter": "python",
   "pygments_lexer": "ipython3",
   "version": "3.6.0"
  }
 },
 "nbformat": 4,
 "nbformat_minor": 2
}
