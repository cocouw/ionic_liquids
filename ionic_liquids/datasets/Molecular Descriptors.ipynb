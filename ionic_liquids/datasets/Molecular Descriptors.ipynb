{
 "cells": [
  {
   "cell_type": "markdown",
   "metadata": {
    "collapsed": true
   },
   "source": [
    "# [HBL] It seems the size of the hidden layer is a critical parameter to get the non-identical numbers."
   ]
  },
  {
   "cell_type": "code",
   "execution_count": 7,
   "metadata": {
    "collapsed": false
   },
   "outputs": [],
   "source": [
    "import pandas as pd\n",
    "import matplotlib.pyplot as plt\n",
    "import numpy as np\n",
    "from __future__ import print_function\n",
    "from rdkit import Chem\n",
    "from rdkit.Chem import AllChem\n",
    "from rdkit.Chem import Descriptors\n",
    "from sklearn.model_selection import train_test_split\n",
    "from sklearn.neural_network import MLPRegressor\n",
    "from rdkit.ML.Descriptors.MoleculeDescriptors import MolecularDescriptorCalculator as Calculator\n",
    "\n",
    "\n"
   ]
  },
  {
   "cell_type": "code",
   "execution_count": 8,
   "metadata": {
    "collapsed": false
   },
   "outputs": [
    {
     "data": {
      "text/html": [
       "<div>\n",
       "<table border=\"1\" class=\"dataframe\">\n",
       "  <thead>\n",
       "    <tr style=\"text-align: right;\">\n",
       "      <th></th>\n",
       "      <th>NUM</th>\n",
       "      <th>A</th>\n",
       "      <th>B</th>\n",
       "      <th>MOLFRC(for A and B)</th>\n",
       "      <th>T</th>\n",
       "      <th>P</th>\n",
       "      <th>ELE_COD</th>\n",
       "      <th>EC_value</th>\n",
       "      <th>EC_error</th>\n",
       "    </tr>\n",
       "  </thead>\n",
       "  <tbody>\n",
       "    <tr>\n",
       "      <th>0</th>\n",
       "      <td>1</td>\n",
       "      <td>[O-]S(=O)(=O)C.c1c[n+](cn1CCCC)C</td>\n",
       "      <td>O</td>\n",
       "      <td>0.004</td>\n",
       "      <td>298.15</td>\n",
       "      <td>101</td>\n",
       "      <td>1.166 ± 0.058</td>\n",
       "      <td>1.166</td>\n",
       "      <td>0.058</td>\n",
       "    </tr>\n",
       "    <tr>\n",
       "      <th>1</th>\n",
       "      <td>2</td>\n",
       "      <td>[O-]S(=O)(=O)C.c1c[n+](cn1CCCC)C</td>\n",
       "      <td>O</td>\n",
       "      <td>0.004</td>\n",
       "      <td>299.15</td>\n",
       "      <td>101</td>\n",
       "      <td>1.203 ± 0.06</td>\n",
       "      <td>1.203</td>\n",
       "      <td>0.06</td>\n",
       "    </tr>\n",
       "    <tr>\n",
       "      <th>2</th>\n",
       "      <td>3</td>\n",
       "      <td>[O-]S(=O)(=O)C.c1c[n+](cn1CCCC)C</td>\n",
       "      <td>O</td>\n",
       "      <td>0.004</td>\n",
       "      <td>300.15</td>\n",
       "      <td>101</td>\n",
       "      <td>1.242 ± 0.062</td>\n",
       "      <td>1.242</td>\n",
       "      <td>0.062</td>\n",
       "    </tr>\n",
       "    <tr>\n",
       "      <th>3</th>\n",
       "      <td>4</td>\n",
       "      <td>[O-]S(=O)(=O)C.c1c[n+](cn1CCCC)C</td>\n",
       "      <td>O</td>\n",
       "      <td>0.004</td>\n",
       "      <td>301.15</td>\n",
       "      <td>101</td>\n",
       "      <td>1.271 ± 0.064</td>\n",
       "      <td>1.271</td>\n",
       "      <td>0.064</td>\n",
       "    </tr>\n",
       "    <tr>\n",
       "      <th>4</th>\n",
       "      <td>5</td>\n",
       "      <td>[O-]S(=O)(=O)C.c1c[n+](cn1CCCC)C</td>\n",
       "      <td>O</td>\n",
       "      <td>0.004</td>\n",
       "      <td>302.15</td>\n",
       "      <td>101</td>\n",
       "      <td>1.289 ± 0.064</td>\n",
       "      <td>1.289</td>\n",
       "      <td>0.064</td>\n",
       "    </tr>\n",
       "  </tbody>\n",
       "</table>\n",
       "</div>"
      ],
      "text/plain": [
       "   NUM                                  A  B  MOLFRC(for A and B)       T  \\\n",
       "0    1   [O-]S(=O)(=O)C.c1c[n+](cn1CCCC)C  O                0.004  298.15   \n",
       "1    2   [O-]S(=O)(=O)C.c1c[n+](cn1CCCC)C  O                0.004  299.15   \n",
       "2    3   [O-]S(=O)(=O)C.c1c[n+](cn1CCCC)C  O                0.004  300.15   \n",
       "3    4   [O-]S(=O)(=O)C.c1c[n+](cn1CCCC)C  O                0.004  301.15   \n",
       "4    5   [O-]S(=O)(=O)C.c1c[n+](cn1CCCC)C  O                0.004  302.15   \n",
       "\n",
       "     P        ELE_COD EC_value EC_error  \n",
       "0  101  1.166 ± 0.058   1.166     0.058  \n",
       "1  101   1.203 ± 0.06   1.203      0.06  \n",
       "2  101  1.242 ± 0.062   1.242     0.062  \n",
       "3  101  1.271 ± 0.064   1.271     0.064  \n",
       "4  101  1.289 ± 0.064   1.289     0.064  "
      ]
     },
     "execution_count": 8,
     "metadata": {},
     "output_type": "execute_result"
    }
   ],
   "source": [
    "#Data Cleaning\n",
    "data = pd.read_excel(\"inputdata.xlsx\")\n",
    "data['EC_value'], data['EC_error'] = zip(*data['ELE_COD'].map(lambda x: x.split('±')))\n",
    "data.head()"
   ]
  },
  {
   "cell_type": "code",
   "execution_count": 9,
   "metadata": {
    "collapsed": false
   },
   "outputs": [
    {
     "name": "stdout",
     "output_type": "stream",
     "text": [
      "2523 21\n"
     ]
    }
   ],
   "source": [
    "#Setting up for molecular descriptors\n",
    "n = data.shape[0]\n",
    "list_of_descriptors = ['NumHeteroatoms','MolWt','ExactMolWt','NOCount','NumHDonors','RingCount','NumAromaticRings','NumSaturatedRings','NumAliphaticRings']\n",
    "calc = Calculator(list_of_descriptors)\n",
    "D = len(list_of_descriptors)\n",
    "d = len(list_of_descriptors)*2 + 3\n",
    "print(n,d)"
   ]
  },
  {
   "cell_type": "code",
   "execution_count": 10,
   "metadata": {
    "collapsed": true
   },
   "outputs": [],
   "source": [
    "#setting up the x and y matrices\n",
    "X = np.zeros((n,d))\n",
    "X[:,-3] = data['T']\n",
    "X[:,-2] = data['P']\n",
    "for i in range(n):\n",
    "    A = Chem.MolFromSmiles(data['A'][i])\n",
    "    B = Chem.MolFromSmiles(data['B'][i])\n",
    "    X[i][:D]    = calc.CalcDescriptors(A)\n",
    "    X[i][D:2*D] = calc.CalcDescriptors(B)\n",
    "\n",
    "y = data['EC_value']\n",
    "\n"
   ]
  },
  {
   "cell_type": "code",
   "execution_count": 11,
   "metadata": {
    "collapsed": false
   },
   "outputs": [],
   "source": [
    "X_train, X_test, y_train, y_test = train_test_split(X, y, test_size=0.1)\n"
   ]
  },
  {
   "cell_type": "code",
   "execution_count": 46,
   "metadata": {
    "collapsed": false
   },
   "outputs": [
    {
     "data": {
      "text/plain": [
       "MLPRegressor(activation='tanh', alpha=0.0001, batch_size='auto', beta_1=0.9,\n",
       "       beta_2=0.999, early_stopping=False, epsilon=1e-08,\n",
       "       hidden_layer_sizes=(20,), learning_rate='constant',\n",
       "       learning_rate_init=0.0001, max_iter=5000, momentum=0.9,\n",
       "       nesterovs_momentum=True, power_t=0.5, random_state=None,\n",
       "       shuffle=True, solver='sgd', tol=0.0001, validation_fraction=0.1,\n",
       "       verbose=False, warm_start=False)"
      ]
     },
     "execution_count": 46,
     "metadata": {},
     "output_type": "execute_result"
    }
   ],
   "source": [
    "#Neural Network\n",
    "mlp = MLPRegressor(hidden_layer_sizes=(20,),activation='tanh',solver='sgd',learning_rate_init=0.0001,max_iter=5000)\n",
    "\n",
    "mlp.fit(X_train, y_train)\n",
    "\n",
    "#print mlp.score(X_test,y_test)"
   ]
  },
  {
   "cell_type": "code",
   "execution_count": 47,
   "metadata": {
    "collapsed": false
   },
   "outputs": [
    {
     "data": {
      "text/plain": [
       "array([ 0.84254373,  0.84254373,  2.31312827,  2.31312827,  0.84254373,\n",
       "        2.31312827,  2.31312827,  2.31312827,  0.84254373,  2.31312827,\n",
       "        2.35385911,  0.63546052,  2.31312827,  2.31312827,  2.31312827,\n",
       "        2.31312827,  2.31312827,  0.63546052,  0.84254373,  2.31312827,\n",
       "        2.31312827,  2.35385911,  2.31312827,  2.31312827,  2.31312827,\n",
       "        2.31312827,  0.84254373,  2.31312827,  2.31312827,  0.84254373,\n",
       "        2.31312827,  2.31312827,  2.31312827,  0.84254373,  2.31312827,\n",
       "        2.31312827,  2.31312827,  2.31312827,  2.31312827,  2.31312827,\n",
       "        0.4077224 ,  0.84254373,  2.31312827,  2.31312827,  2.31312827,\n",
       "        0.84254373,  2.31312827,  2.31312827,  2.31312827,  2.31312827,\n",
       "        0.84254373,  2.31312827,  2.31312827,  2.31312827,  2.31312827,\n",
       "        0.84254373,  2.31312827,  0.84254373,  2.31312827,  2.31312827,\n",
       "        2.31312827,  0.84254373,  2.31312827,  0.84254373,  0.84254373,\n",
       "        2.31312827,  2.31312827,  0.84254373,  2.31312827,  2.31312827,\n",
       "        2.31312827,  0.84254373,  2.31312827,  2.31312827,  2.31312827,\n",
       "        2.31312827,  2.31312827,  0.84254373,  2.31312827,  2.31312827,\n",
       "        2.31312827,  2.31312827,  2.31312827,  0.40772241,  0.40772289,\n",
       "        2.31312827,  2.31312827,  0.84254373,  2.31312827,  2.3538591 ,\n",
       "        2.31312827,  2.31312827,  2.31312827,  2.31312827,  2.31312827,\n",
       "        2.31312827,  2.31312827,  2.31312827,  2.31312827,  0.84254373,\n",
       "        0.40772241,  2.31312827,  2.31312827,  2.31312827,  2.31312827,\n",
       "        2.31312827,  2.35385911,  2.31312827,  2.31312827,  0.84254373,\n",
       "        0.4274172 ,  0.4077224 ,  2.31312827,  0.40772241,  2.31312827,\n",
       "        0.73389013,  2.31312827,  2.31312827,  2.31312827,  2.31312827,\n",
       "        0.73392022,  0.84254373,  0.40832399,  2.31312827,  2.31312827,\n",
       "        2.3538591 ,  0.84254373,  0.42755254,  2.31312827,  2.31312827,\n",
       "        2.31312779,  2.31312827,  2.31312827,  2.31312827,  2.31312827,\n",
       "        2.31312827,  2.35385911,  0.4274172 ,  2.31312827,  2.31312827,\n",
       "        2.3538591 ,  0.40773949,  0.40832399,  2.31312827,  2.31312827,\n",
       "        2.31312827,  2.31312827,  0.84254373,  0.84254373,  0.84254373,\n",
       "        2.31312827,  2.31312827,  2.31312827,  2.31312827,  0.84254373,\n",
       "        2.31312827,  2.35385911,  0.40773961,  0.84254373,  0.4077224 ,\n",
       "        2.31312827,  2.31312827,  2.31312827,  2.31312827,  2.31312827,\n",
       "        2.31312827,  0.84254373,  2.31312827,  0.84254373,  2.31312827,\n",
       "        2.31312827,  0.40831963,  0.84254373,  0.84254373,  0.73389013,\n",
       "        0.84254373,  0.73389013,  2.31312827,  2.31312827,  2.31312827,\n",
       "        2.31312827,  2.31312779,  2.31312827,  2.31312827,  2.31312827,\n",
       "        2.31312827,  0.84254373,  2.31312827,  2.31312827,  2.31312827,\n",
       "        2.31312827,  2.31312827,  0.63597512,  2.31312827,  2.31312827,\n",
       "        2.31312827,  2.31312827,  0.84254373,  2.31312827,  2.35385911,\n",
       "        2.31312827,  0.84254373,  0.84254373,  2.31312827,  2.31312827,\n",
       "        0.73389013,  2.31312827,  2.31312827,  2.31312827,  0.84254373,\n",
       "        2.31312827,  2.31312827,  2.31312827,  2.31312827,  0.84254373,\n",
       "        0.84254373,  0.63597512,  2.35385911,  2.31312827,  2.31312827,\n",
       "        0.40772241,  2.31312827,  0.40772241,  2.31312827,  2.31312827,\n",
       "        0.84254373,  2.31312827,  2.31312827,  0.84254373,  2.31312827,\n",
       "        2.31312779,  0.84254373,  2.31312827,  0.84254373,  0.4274172 ,\n",
       "        2.31312827,  2.31312827,  2.31312827,  2.35385911,  2.31312827,\n",
       "        2.31312827,  2.31312827,  2.31312827,  2.31312827,  2.31312827,\n",
       "        2.31312827,  2.31312827,  2.31312827,  0.40772241,  2.31312827,\n",
       "        2.31312827,  0.84254373,  0.84254373])"
      ]
     },
     "execution_count": 47,
     "metadata": {},
     "output_type": "execute_result"
    }
   ],
   "source": [
    "mlp.predict(X_test)"
   ]
  },
  {
   "cell_type": "code",
   "execution_count": 37,
   "metadata": {
    "collapsed": false
   },
   "outputs": [
    {
     "data": {
      "text/plain": [
       "741        0.108 \n",
       "1069       0.848 \n",
       "166        6.932 \n",
       "233        9.587 \n",
       "748        0.559 \n",
       "1387       0.828 \n",
       "1047       1.066 \n",
       "1293       0.458 \n",
       "756        0.316 \n",
       "241        10.61 \n",
       "1828        5.97 \n",
       "1642       0.733 \n",
       "2385    0.001038 \n",
       "955        0.608 \n",
       "450        5.018 \n",
       "945        0.375 \n",
       "2349    0.000896 \n",
       "1644       0.773 \n",
       "1124       0.203 \n",
       "331        7.053 \n",
       "1042       0.851 \n",
       "1790       0.562 \n",
       "2489     0.01098 \n",
       "455        5.612 \n",
       "151        5.554 \n",
       "2459     0.00851 \n",
       "921        1.211 \n",
       "229        8.985 \n",
       "244         4.12 \n",
       "823        0.384 \n",
       "          ...    \n",
       "515          3.2 \n",
       "113        4.849 \n",
       "1497       1.417 \n",
       "1025       0.396 \n",
       "961        0.772 \n",
       "904        0.872 \n",
       "272        7.825 \n",
       "2436     0.00847 \n",
       "818        0.595 \n",
       "2069    0.011357 \n",
       "833        0.908 \n",
       "1637        0.25 \n",
       "2454     0.00926 \n",
       "264        6.727 \n",
       "1253       0.559 \n",
       "1836        2.06 \n",
       "2035    0.008999 \n",
       "1306       0.346 \n",
       "383        5.116 \n",
       "578        3.422 \n",
       "234        9.734 \n",
       "79         2.966 \n",
       "574        3.133 \n",
       "1323       0.595 \n",
       "2044    0.010095 \n",
       "1570     0.00189 \n",
       "1395       0.458 \n",
       "1397       0.002 \n",
       "1064       0.732 \n",
       "931        0.654 \n",
       "Name: EC_value, dtype: object"
      ]
     },
     "execution_count": 37,
     "metadata": {},
     "output_type": "execute_result"
    }
   ],
   "source": [
    "\n",
    "y_test"
   ]
  },
  {
   "cell_type": "code",
   "execution_count": 30,
   "metadata": {
    "collapsed": false
   },
   "outputs": [],
   "source": []
  },
  {
   "cell_type": "code",
   "execution_count": null,
   "metadata": {
    "collapsed": true
   },
   "outputs": [],
   "source": []
  }
 ],
 "metadata": {
  "anaconda-cloud": {},
  "kernelspec": {
   "display_name": "Python [default]",
   "language": "python",
   "name": "python3"
  },
  "language_info": {
   "codemirror_mode": {
    "name": "ipython",
    "version": 3
   },
   "file_extension": ".py",
   "mimetype": "text/x-python",
   "name": "python",
   "nbconvert_exporter": "python",
   "pygments_lexer": "ipython3",
   "version": "3.5.2"
  }
 },
 "nbformat": 4,
 "nbformat_minor": 2
}
