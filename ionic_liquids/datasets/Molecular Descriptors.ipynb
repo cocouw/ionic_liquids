{
 "cells": [
  {
   "cell_type": "code",
   "execution_count": null,
   "metadata": {
    "collapsed": true
   },
   "outputs": [],
   "source": []
  },
  {
   "cell_type": "code",
   "execution_count": 48,
   "metadata": {
    "collapsed": false
   },
   "outputs": [],
   "source": [
    "import pandas as pd\n",
    "import matplotlib.pyplot as plt\n",
    "import numpy as np\n",
    "from __future__ import print_function\n",
    "from rdkit import Chem\n",
    "from rdkit.Chem import AllChem\n",
    "from rdkit.Chem import Descriptors\n",
    "from sklearn.model_selection import train_test_split\n",
    "from sklearn.preprocessing import StandardScaler\n",
    "from sklearn.neural_network import MLPRegressor\n",
    "from rdkit.ML.Descriptors.MoleculeDescriptors import MolecularDescriptorCalculator as Calculator\n",
    "%matplotlib inline\n",
    "\n"
   ]
  },
  {
   "cell_type": "code",
   "execution_count": 49,
   "metadata": {
    "collapsed": false
   },
   "outputs": [
    {
     "data": {
      "text/html": [
       "<div>\n",
       "<table border=\"1\" class=\"dataframe\">\n",
       "  <thead>\n",
       "    <tr style=\"text-align: right;\">\n",
       "      <th></th>\n",
       "      <th>NUM</th>\n",
       "      <th>A</th>\n",
       "      <th>B</th>\n",
       "      <th>MOLFRC_A</th>\n",
       "      <th>T</th>\n",
       "      <th>P</th>\n",
       "      <th>ELE_COD</th>\n",
       "      <th>EC_value</th>\n",
       "      <th>EC_error</th>\n",
       "    </tr>\n",
       "  </thead>\n",
       "  <tbody>\n",
       "    <tr>\n",
       "      <th>0</th>\n",
       "      <td>1</td>\n",
       "      <td>[O-]S(=O)(=O)C.c1c[n+](cn1CCCC)C</td>\n",
       "      <td>O</td>\n",
       "      <td>0.004</td>\n",
       "      <td>298.15</td>\n",
       "      <td>101</td>\n",
       "      <td>1.166 ± 0.058</td>\n",
       "      <td>1.166</td>\n",
       "      <td>0.058</td>\n",
       "    </tr>\n",
       "    <tr>\n",
       "      <th>1</th>\n",
       "      <td>2</td>\n",
       "      <td>[O-]S(=O)(=O)C.c1c[n+](cn1CCCC)C</td>\n",
       "      <td>O</td>\n",
       "      <td>0.004</td>\n",
       "      <td>299.15</td>\n",
       "      <td>101</td>\n",
       "      <td>1.203 ± 0.06</td>\n",
       "      <td>1.203</td>\n",
       "      <td>0.06</td>\n",
       "    </tr>\n",
       "    <tr>\n",
       "      <th>2</th>\n",
       "      <td>3</td>\n",
       "      <td>[O-]S(=O)(=O)C.c1c[n+](cn1CCCC)C</td>\n",
       "      <td>O</td>\n",
       "      <td>0.004</td>\n",
       "      <td>300.15</td>\n",
       "      <td>101</td>\n",
       "      <td>1.242 ± 0.062</td>\n",
       "      <td>1.242</td>\n",
       "      <td>0.062</td>\n",
       "    </tr>\n",
       "    <tr>\n",
       "      <th>3</th>\n",
       "      <td>4</td>\n",
       "      <td>[O-]S(=O)(=O)C.c1c[n+](cn1CCCC)C</td>\n",
       "      <td>O</td>\n",
       "      <td>0.004</td>\n",
       "      <td>301.15</td>\n",
       "      <td>101</td>\n",
       "      <td>1.271 ± 0.064</td>\n",
       "      <td>1.271</td>\n",
       "      <td>0.064</td>\n",
       "    </tr>\n",
       "    <tr>\n",
       "      <th>4</th>\n",
       "      <td>5</td>\n",
       "      <td>[O-]S(=O)(=O)C.c1c[n+](cn1CCCC)C</td>\n",
       "      <td>O</td>\n",
       "      <td>0.004</td>\n",
       "      <td>302.15</td>\n",
       "      <td>101</td>\n",
       "      <td>1.289 ± 0.064</td>\n",
       "      <td>1.289</td>\n",
       "      <td>0.064</td>\n",
       "    </tr>\n",
       "  </tbody>\n",
       "</table>\n",
       "</div>"
      ],
      "text/plain": [
       "   NUM                                  A  B  MOLFRC_A       T    P  \\\n",
       "0    1   [O-]S(=O)(=O)C.c1c[n+](cn1CCCC)C  O     0.004  298.15  101   \n",
       "1    2   [O-]S(=O)(=O)C.c1c[n+](cn1CCCC)C  O     0.004  299.15  101   \n",
       "2    3   [O-]S(=O)(=O)C.c1c[n+](cn1CCCC)C  O     0.004  300.15  101   \n",
       "3    4   [O-]S(=O)(=O)C.c1c[n+](cn1CCCC)C  O     0.004  301.15  101   \n",
       "4    5   [O-]S(=O)(=O)C.c1c[n+](cn1CCCC)C  O     0.004  302.15  101   \n",
       "\n",
       "         ELE_COD EC_value EC_error  \n",
       "0  1.166 ± 0.058   1.166     0.058  \n",
       "1   1.203 ± 0.06   1.203      0.06  \n",
       "2  1.242 ± 0.062   1.242     0.062  \n",
       "3  1.271 ± 0.064   1.271     0.064  \n",
       "4  1.289 ± 0.064   1.289     0.064  "
      ]
     },
     "execution_count": 49,
     "metadata": {},
     "output_type": "execute_result"
    }
   ],
   "source": [
    "#Data Cleaning\n",
    "data = pd.read_excel(\"inputdata.xlsx\")\n",
    "data['EC_value'], data['EC_error'] = zip(*data['ELE_COD'].map(lambda x: x.split('±')))\n",
    "data.head()"
   ]
  },
  {
   "cell_type": "code",
   "execution_count": 50,
   "metadata": {
    "collapsed": false
   },
   "outputs": [
    {
     "name": "stdout",
     "output_type": "stream",
     "text": [
      "2523 22\n"
     ]
    }
   ],
   "source": [
    "#Setting up for molecular descriptors\n",
    "n = data.shape[0]\n",
    "list_of_descriptors = ['NumHeteroatoms','MolWt','ExactMolWt','NOCount','NumHDonors','RingCount','NumAromaticRings','NumSaturatedRings','NumAliphaticRings']\n",
    "calc = Calculator(list_of_descriptors)\n",
    "D = len(list_of_descriptors)\n",
    "d = len(list_of_descriptors)*2 + 4\n",
    "print(n,d)"
   ]
  },
  {
   "cell_type": "code",
   "execution_count": 51,
   "metadata": {
    "collapsed": false
   },
   "outputs": [
    {
     "name": "stdout",
     "output_type": "stream",
     "text": [
      "[ 0.  0.  0. ...,  0.  0.  0.]\n",
      "(2523,) (2523, 22)\n",
      "      NUM  NumHeteroatoms_A     MolWt_A  ExactMolWt_A  NOCount_A  \\\n",
      "0     6.0           234.321  234.103813           5.0        0.0   \n",
      "1     6.0           234.321  234.103813           5.0        0.0   \n",
      "2     6.0           234.321  234.103813           5.0        0.0   \n",
      "3     6.0           234.321  234.103813           5.0        0.0   \n",
      "4     6.0           234.321  234.103813           5.0        0.0   \n",
      "5     6.0           234.321  234.103813           5.0        0.0   \n",
      "6     6.0           234.321  234.103813           5.0        0.0   \n",
      "7     6.0           234.321  234.103813           5.0        0.0   \n",
      "8     6.0           234.321  234.103813           5.0        0.0   \n",
      "9     6.0           234.321  234.103813           5.0        0.0   \n",
      "10    6.0           234.321  234.103813           5.0        0.0   \n",
      "11    6.0           234.321  234.103813           5.0        0.0   \n",
      "12    6.0           234.321  234.103813           5.0        0.0   \n",
      "13    6.0           234.321  234.103813           5.0        0.0   \n",
      "14    6.0           234.321  234.103813           5.0        0.0   \n",
      "15    6.0           234.321  234.103813           5.0        0.0   \n",
      "16    6.0           234.321  234.103813           5.0        0.0   \n",
      "17    6.0           234.321  234.103813           5.0        0.0   \n",
      "18    6.0           234.321  234.103813           5.0        0.0   \n",
      "19    6.0           234.321  234.103813           5.0        0.0   \n",
      "20    6.0           234.321  234.103813           5.0        0.0   \n",
      "21    6.0           234.321  234.103813           5.0        0.0   \n",
      "22    6.0           234.321  234.103813           5.0        0.0   \n",
      "23    6.0           234.321  234.103813           5.0        0.0   \n",
      "24    6.0           234.321  234.103813           5.0        0.0   \n",
      "25    6.0           234.321  234.103813           5.0        0.0   \n",
      "26    6.0           234.321  234.103813           5.0        0.0   \n",
      "27    6.0           234.321  234.103813           5.0        0.0   \n",
      "28    6.0           234.321  234.103813           5.0        0.0   \n",
      "29    6.0           234.321  234.103813           5.0        0.0   \n",
      "...   ...               ...         ...           ...        ...   \n",
      "2493  7.0           254.080  254.157742           2.0        0.0   \n",
      "2494  7.0           254.080  254.157742           2.0        0.0   \n",
      "2495  7.0           254.080  254.157742           2.0        0.0   \n",
      "2496  7.0           254.080  254.157742           2.0        0.0   \n",
      "2497  7.0           254.080  254.157742           2.0        0.0   \n",
      "2498  7.0           254.080  254.157742           2.0        0.0   \n",
      "2499  7.0           254.080  254.157742           2.0        0.0   \n",
      "2500  7.0           254.080  254.157742           2.0        0.0   \n",
      "2501  7.0           254.080  254.157742           2.0        0.0   \n",
      "2502  7.0           254.080  254.157742           2.0        0.0   \n",
      "2503  7.0           254.080  254.157742           2.0        0.0   \n",
      "2504  7.0           254.080  254.157742           2.0        0.0   \n",
      "2505  7.0           254.080  254.157742           2.0        0.0   \n",
      "2506  7.0           254.080  254.157742           2.0        0.0   \n",
      "2507  7.0           254.080  254.157742           2.0        0.0   \n",
      "2508  7.0           254.080  254.157742           2.0        0.0   \n",
      "2509  7.0           254.080  254.157742           2.0        0.0   \n",
      "2510  7.0           254.080  254.157742           2.0        0.0   \n",
      "2511  7.0           254.080  254.157742           2.0        0.0   \n",
      "2512  7.0           254.080  254.157742           2.0        0.0   \n",
      "2513  7.0           254.080  254.157742           2.0        0.0   \n",
      "2514  7.0           254.080  254.157742           2.0        0.0   \n",
      "2515  7.0           254.080  254.157742           2.0        0.0   \n",
      "2516  7.0           254.080  254.157742           2.0        0.0   \n",
      "2517  7.0           254.080  254.157742           2.0        0.0   \n",
      "2518  7.0           254.080  254.157742           2.0        0.0   \n",
      "2519  7.0           254.080  254.157742           2.0        0.0   \n",
      "2520  7.0           254.080  254.157742           2.0        0.0   \n",
      "2521  7.0           254.080  254.157742           2.0        0.0   \n",
      "2522  7.0           254.080  254.157742           2.0        0.0   \n",
      "\n",
      "      NumHDonors_A  RingCount_A  NumAromaticRings_A  NumSaturatedRings_A  \\\n",
      "0              1.0          1.0                 0.0                  0.0   \n",
      "1              1.0          1.0                 0.0                  0.0   \n",
      "2              1.0          1.0                 0.0                  0.0   \n",
      "3              1.0          1.0                 0.0                  0.0   \n",
      "4              1.0          1.0                 0.0                  0.0   \n",
      "5              1.0          1.0                 0.0                  0.0   \n",
      "6              1.0          1.0                 0.0                  0.0   \n",
      "7              1.0          1.0                 0.0                  0.0   \n",
      "8              1.0          1.0                 0.0                  0.0   \n",
      "9              1.0          1.0                 0.0                  0.0   \n",
      "10             1.0          1.0                 0.0                  0.0   \n",
      "11             1.0          1.0                 0.0                  0.0   \n",
      "12             1.0          1.0                 0.0                  0.0   \n",
      "13             1.0          1.0                 0.0                  0.0   \n",
      "14             1.0          1.0                 0.0                  0.0   \n",
      "15             1.0          1.0                 0.0                  0.0   \n",
      "16             1.0          1.0                 0.0                  0.0   \n",
      "17             1.0          1.0                 0.0                  0.0   \n",
      "18             1.0          1.0                 0.0                  0.0   \n",
      "19             1.0          1.0                 0.0                  0.0   \n",
      "20             1.0          1.0                 0.0                  0.0   \n",
      "21             1.0          1.0                 0.0                  0.0   \n",
      "22             1.0          1.0                 0.0                  0.0   \n",
      "23             1.0          1.0                 0.0                  0.0   \n",
      "24             1.0          1.0                 0.0                  0.0   \n",
      "25             1.0          1.0                 0.0                  0.0   \n",
      "26             1.0          1.0                 0.0                  0.0   \n",
      "27             1.0          1.0                 0.0                  0.0   \n",
      "28             1.0          1.0                 0.0                  0.0   \n",
      "29             1.0          1.0                 0.0                  0.0   \n",
      "...            ...          ...                 ...                  ...   \n",
      "2493           1.0          1.0                 0.0                  0.0   \n",
      "2494           1.0          1.0                 0.0                  0.0   \n",
      "2495           1.0          1.0                 0.0                  0.0   \n",
      "2496           1.0          1.0                 0.0                  0.0   \n",
      "2497           1.0          1.0                 0.0                  0.0   \n",
      "2498           1.0          1.0                 0.0                  0.0   \n",
      "2499           1.0          1.0                 0.0                  0.0   \n",
      "2500           1.0          1.0                 0.0                  0.0   \n",
      "2501           1.0          1.0                 0.0                  0.0   \n",
      "2502           1.0          1.0                 0.0                  0.0   \n",
      "2503           1.0          1.0                 0.0                  0.0   \n",
      "2504           1.0          1.0                 0.0                  0.0   \n",
      "2505           1.0          1.0                 0.0                  0.0   \n",
      "2506           1.0          1.0                 0.0                  0.0   \n",
      "2507           1.0          1.0                 0.0                  0.0   \n",
      "2508           1.0          1.0                 0.0                  0.0   \n",
      "2509           1.0          1.0                 0.0                  0.0   \n",
      "2510           1.0          1.0                 0.0                  0.0   \n",
      "2511           1.0          1.0                 0.0                  0.0   \n",
      "2512           1.0          1.0                 0.0                  0.0   \n",
      "2513           1.0          1.0                 0.0                  0.0   \n",
      "2514           1.0          1.0                 0.0                  0.0   \n",
      "2515           1.0          1.0                 0.0                  0.0   \n",
      "2516           1.0          1.0                 0.0                  0.0   \n",
      "2517           1.0          1.0                 0.0                  0.0   \n",
      "2518           1.0          1.0                 0.0                  0.0   \n",
      "2519           1.0          1.0                 0.0                  0.0   \n",
      "2520           1.0          1.0                 0.0                  0.0   \n",
      "2521           1.0          1.0                 0.0                  0.0   \n",
      "2522           1.0          1.0                 0.0                  0.0   \n",
      "\n",
      "      NumAliphaticRings_A    ...     ExactMolWt_B  NOCount_B  NumHDonors_B  \\\n",
      "0                     1.0    ...              1.0        0.0           0.0   \n",
      "1                     1.0    ...              1.0        0.0           0.0   \n",
      "2                     1.0    ...              1.0        0.0           0.0   \n",
      "3                     1.0    ...              1.0        0.0           0.0   \n",
      "4                     1.0    ...              1.0        0.0           0.0   \n",
      "5                     1.0    ...              1.0        0.0           0.0   \n",
      "6                     1.0    ...              1.0        0.0           0.0   \n",
      "7                     1.0    ...              1.0        0.0           0.0   \n",
      "8                     1.0    ...              1.0        0.0           0.0   \n",
      "9                     1.0    ...              1.0        0.0           0.0   \n",
      "10                    1.0    ...              1.0        0.0           0.0   \n",
      "11                    1.0    ...              1.0        0.0           0.0   \n",
      "12                    1.0    ...              1.0        0.0           0.0   \n",
      "13                    1.0    ...              1.0        0.0           0.0   \n",
      "14                    1.0    ...              1.0        0.0           0.0   \n",
      "15                    1.0    ...              1.0        0.0           0.0   \n",
      "16                    1.0    ...              1.0        0.0           0.0   \n",
      "17                    1.0    ...              1.0        0.0           0.0   \n",
      "18                    1.0    ...              1.0        0.0           0.0   \n",
      "19                    1.0    ...              1.0        0.0           0.0   \n",
      "20                    1.0    ...              1.0        0.0           0.0   \n",
      "21                    1.0    ...              1.0        0.0           0.0   \n",
      "22                    1.0    ...              1.0        0.0           0.0   \n",
      "23                    1.0    ...              1.0        0.0           0.0   \n",
      "24                    1.0    ...              1.0        0.0           0.0   \n",
      "25                    1.0    ...              1.0        0.0           0.0   \n",
      "26                    1.0    ...              1.0        0.0           0.0   \n",
      "27                    1.0    ...              1.0        0.0           0.0   \n",
      "28                    1.0    ...              1.0        0.0           0.0   \n",
      "29                    1.0    ...              1.0        0.0           0.0   \n",
      "...                   ...    ...              ...        ...           ...   \n",
      "2493                  1.0    ...              1.0        1.0           0.0   \n",
      "2494                  1.0    ...              1.0        1.0           0.0   \n",
      "2495                  1.0    ...              1.0        1.0           0.0   \n",
      "2496                  1.0    ...              1.0        1.0           0.0   \n",
      "2497                  1.0    ...              1.0        1.0           0.0   \n",
      "2498                  1.0    ...              1.0        1.0           0.0   \n",
      "2499                  1.0    ...              1.0        1.0           0.0   \n",
      "2500                  1.0    ...              1.0        1.0           0.0   \n",
      "2501                  1.0    ...              1.0        1.0           0.0   \n",
      "2502                  1.0    ...              1.0        1.0           0.0   \n",
      "2503                  1.0    ...              1.0        1.0           0.0   \n",
      "2504                  1.0    ...              1.0        1.0           0.0   \n",
      "2505                  1.0    ...              1.0        1.0           0.0   \n",
      "2506                  1.0    ...              1.0        1.0           0.0   \n",
      "2507                  1.0    ...              1.0        1.0           0.0   \n",
      "2508                  1.0    ...              1.0        1.0           0.0   \n",
      "2509                  1.0    ...              1.0        1.0           0.0   \n",
      "2510                  1.0    ...              1.0        1.0           0.0   \n",
      "2511                  1.0    ...              1.0        1.0           0.0   \n",
      "2512                  1.0    ...              1.0        1.0           0.0   \n",
      "2513                  1.0    ...              1.0        1.0           0.0   \n",
      "2514                  1.0    ...              1.0        1.0           0.0   \n",
      "2515                  1.0    ...              1.0        1.0           0.0   \n",
      "2516                  1.0    ...              1.0        1.0           0.0   \n",
      "2517                  1.0    ...              1.0        1.0           0.0   \n",
      "2518                  1.0    ...              1.0        1.0           0.0   \n",
      "2519                  1.0    ...              1.0        1.0           0.0   \n",
      "2520                  1.0    ...              1.0        1.0           0.0   \n",
      "2521                  1.0    ...              1.0        1.0           0.0   \n",
      "2522                  1.0    ...              1.0        1.0           0.0   \n",
      "\n",
      "      RingCount_B  NumAromaticRings_B  NumSaturatedRings_B  \\\n",
      "0             0.0                 0.0                  0.0   \n",
      "1             0.0                 0.0                  0.0   \n",
      "2             0.0                 0.0                  0.0   \n",
      "3             0.0                 0.0                  0.0   \n",
      "4             0.0                 0.0                  0.0   \n",
      "5             0.0                 0.0                  0.0   \n",
      "6             0.0                 0.0                  0.0   \n",
      "7             0.0                 0.0                  0.0   \n",
      "8             0.0                 0.0                  0.0   \n",
      "9             0.0                 0.0                  0.0   \n",
      "10            0.0                 0.0                  0.0   \n",
      "11            0.0                 0.0                  0.0   \n",
      "12            0.0                 0.0                  0.0   \n",
      "13            0.0                 0.0                  0.0   \n",
      "14            0.0                 0.0                  0.0   \n",
      "15            0.0                 0.0                  0.0   \n",
      "16            0.0                 0.0                  0.0   \n",
      "17            0.0                 0.0                  0.0   \n",
      "18            0.0                 0.0                  0.0   \n",
      "19            0.0                 0.0                  0.0   \n",
      "20            0.0                 0.0                  0.0   \n",
      "21            0.0                 0.0                  0.0   \n",
      "22            0.0                 0.0                  0.0   \n",
      "23            0.0                 0.0                  0.0   \n",
      "24            0.0                 0.0                  0.0   \n",
      "25            0.0                 0.0                  0.0   \n",
      "26            0.0                 0.0                  0.0   \n",
      "27            0.0                 0.0                  0.0   \n",
      "28            0.0                 0.0                  0.0   \n",
      "29            0.0                 0.0                  0.0   \n",
      "...           ...                 ...                  ...   \n",
      "2493          0.0                 0.0                  0.0   \n",
      "2494          0.0                 0.0                  0.0   \n",
      "2495          0.0                 0.0                  0.0   \n",
      "2496          0.0                 0.0                  0.0   \n",
      "2497          0.0                 0.0                  0.0   \n",
      "2498          0.0                 0.0                  0.0   \n",
      "2499          0.0                 0.0                  0.0   \n",
      "2500          0.0                 0.0                  0.0   \n",
      "2501          0.0                 0.0                  0.0   \n",
      "2502          0.0                 0.0                  0.0   \n",
      "2503          0.0                 0.0                  0.0   \n",
      "2504          0.0                 0.0                  0.0   \n",
      "2505          0.0                 0.0                  0.0   \n",
      "2506          0.0                 0.0                  0.0   \n",
      "2507          0.0                 0.0                  0.0   \n",
      "2508          0.0                 0.0                  0.0   \n",
      "2509          0.0                 0.0                  0.0   \n",
      "2510          0.0                 0.0                  0.0   \n",
      "2511          0.0                 0.0                  0.0   \n",
      "2512          0.0                 0.0                  0.0   \n",
      "2513          0.0                 0.0                  0.0   \n",
      "2514          0.0                 0.0                  0.0   \n",
      "2515          0.0                 0.0                  0.0   \n",
      "2516          0.0                 0.0                  0.0   \n",
      "2517          0.0                 0.0                  0.0   \n",
      "2518          0.0                 0.0                  0.0   \n",
      "2519          0.0                 0.0                  0.0   \n",
      "2520          0.0                 0.0                  0.0   \n",
      "2521          0.0                 0.0                  0.0   \n",
      "2522          0.0                 0.0                  0.0   \n",
      "\n",
      "      NumAliphaticRings_B       T      P  MOLFRC_A  \n",
      "0                     0.0  298.15  101.0  0.004000  \n",
      "1                     0.0  299.15  101.0  0.004000  \n",
      "2                     0.0  300.15  101.0  0.004000  \n",
      "3                     0.0  301.15  101.0  0.004000  \n",
      "4                     0.0  302.15  101.0  0.004000  \n",
      "5                     0.0  303.15  101.0  0.004000  \n",
      "6                     0.0  304.15  101.0  0.004000  \n",
      "7                     0.0  305.15  101.0  0.004000  \n",
      "8                     0.0  306.15  101.0  0.004000  \n",
      "9                     0.0  307.15  101.0  0.004000  \n",
      "10                    0.0  308.15  101.0  0.004000  \n",
      "11                    0.0  309.15  101.0  0.004000  \n",
      "12                    0.0  310.15  101.0  0.004000  \n",
      "13                    0.0  311.15  101.0  0.004000  \n",
      "14                    0.0  312.15  101.0  0.004000  \n",
      "15                    0.0  313.15  101.0  0.004000  \n",
      "16                    0.0  314.15  101.0  0.004000  \n",
      "17                    0.0  315.15  101.0  0.004000  \n",
      "18                    0.0  316.15  101.0  0.004000  \n",
      "19                    0.0  317.15  101.0  0.004000  \n",
      "20                    0.0  318.15  101.0  0.004000  \n",
      "21                    0.0  319.15  101.0  0.004000  \n",
      "22                    0.0  320.15  101.0  0.004000  \n",
      "23                    0.0  321.15  101.0  0.004000  \n",
      "24                    0.0  322.15  101.0  0.004000  \n",
      "25                    0.0  323.15  101.0  0.004000  \n",
      "26                    0.0  324.15  101.0  0.004000  \n",
      "27                    0.0  325.15  101.0  0.004000  \n",
      "28                    0.0  326.15  101.0  0.004000  \n",
      "29                    0.0  327.15  101.0  0.004000  \n",
      "...                   ...     ...    ...       ...  \n",
      "2493                  0.0  318.15  101.0  0.000194  \n",
      "2494                  0.0  318.15  101.0  0.000383  \n",
      "2495                  0.0  318.15  101.0  0.000648  \n",
      "2496                  0.0  318.15  101.0  0.000919  \n",
      "2497                  0.0  318.15  101.0  0.001294  \n",
      "2498                  0.0  318.15  101.0  0.001702  \n",
      "2499                  0.0  318.15  101.0  0.001965  \n",
      "2500                  0.0  318.15  101.0  0.002181  \n",
      "2501                  0.0  318.15  101.0  0.002546  \n",
      "2502                  0.0  318.15  101.0  0.003172  \n",
      "2503                  0.0  318.15  101.0  0.003586  \n",
      "2504                  0.0  318.15  101.0  0.004371  \n",
      "2505                  0.0  318.15  101.0  0.005148  \n",
      "2506                  0.0  318.15  101.0  0.005638  \n",
      "2507                  0.0  318.15  101.0  0.006517  \n",
      "2508                  0.0  328.15  101.0  0.000194  \n",
      "2509                  0.0  328.15  101.0  0.000383  \n",
      "2510                  0.0  328.15  101.0  0.000648  \n",
      "2511                  0.0  328.15  101.0  0.000919  \n",
      "2512                  0.0  328.15  101.0  0.001294  \n",
      "2513                  0.0  328.15  101.0  0.001702  \n",
      "2514                  0.0  328.15  101.0  0.001965  \n",
      "2515                  0.0  328.15  101.0  0.002181  \n",
      "2516                  0.0  328.15  101.0  0.002546  \n",
      "2517                  0.0  328.15  101.0  0.003172  \n",
      "2518                  0.0  328.15  101.0  0.003586  \n",
      "2519                  0.0  328.15  101.0  0.004371  \n",
      "2520                  0.0  328.15  101.0  0.005148  \n",
      "2521                  0.0  328.15  101.0  0.005638  \n",
      "2522                  0.0  328.15  101.0  0.006517  \n",
      "\n",
      "[2523 rows x 22 columns]\n"
     ]
    }
   ],
   "source": [
    "#setting up the x and y matrices\n",
    "X = np.zeros((n,d))\n",
    "X[:,-3] = data['T']\n",
    "X[:,-2] = data['P']\n",
    "X[:,-1] = data['MOLFRC_A']\n",
    "\n",
    "print(X[:,0])\n",
    "for i in range(n):\n",
    "    A = Chem.MolFromSmiles(data['A'][i])\n",
    "    B = Chem.MolFromSmiles(data['B'][i])\n",
    "    X[i][:D]    = calc.CalcDescriptors(A)\n",
    "    X[i][D:2*D] = calc.CalcDescriptors(B)\n",
    "print(data['NUM'].shape,X.shape)    \n",
    "\n",
    "new_data = pd.DataFrame(X,columns=['NUM','NumHeteroatoms_A','MolWt_A','ExactMolWt_A','NOCount_A','NumHDonors_A','RingCount_A','NumAromaticRings_A','NumSaturatedRings_A','NumAliphaticRings_A','NumHeteroatoms_B','MolWt_B','ExactMolWt_B','NOCount_B','NumHDonors_B','RingCount_B','NumAromaticRings_B','NumSaturatedRings_B','NumAliphaticRings_B','T','P','MOLFRC_A'])\n",
    "\n",
    "print(new_data)\n",
    "\n",
    "y = data['EC_value']\n",
    "\n"
   ]
  },
  {
   "cell_type": "code",
   "execution_count": 54,
   "metadata": {
    "collapsed": false
   },
   "outputs": [],
   "source": [
    "X = StandardScaler().fit_transform(X)\n",
    "X_train, X_test, y_train, y_test = train_test_split(X, y, test_size=0.1)\n"
   ]
  },
  {
   "cell_type": "code",
   "execution_count": 62,
   "metadata": {
    "collapsed": false
   },
   "outputs": [
    {
     "data": {
      "text/plain": [
       "[<matplotlib.lines.Line2D at 0x1147f69b0>]"
      ]
     },
     "execution_count": 62,
     "metadata": {},
     "output_type": "execute_result"
    },
    {
     "data": {
      "image/png": "[encoded data removed]",
      "text/plain": [
       "<matplotlib.figure.Figure at 0x1148dbe48>"
      ]
     },
     "metadata": {},
     "output_type": "display_data"
    }
   ],
   "source": [
    "#Neural Network\n",
    "mlp = MLPRegressor(hidden_layer_sizes=(1,), activation='relu', solver='adam', alpha=0.0001, max_iter=2000, random_state=None)\n",
    "mlp.fit(X_train,y_train)\n",
    "plt.figure(figsize=(4,4))\n",
    "plt.scatter(y_test.values.astype(np.float),mlp.predict(X_test))\n",
    "plt.plot([0,10],[0,10],lw=4,color='red')\n"
   ]
  },
  {
   "cell_type": "code",
   "execution_count": 46,
   "metadata": {
    "collapsed": false
   },
   "outputs": [
    {
     "data": {
      "text/plain": [
       "<matplotlib.collections.PathCollection at 0x113b67a90>"
      ]
     },
     "execution_count": 46,
     "metadata": {},
     "output_type": "execute_result"
    },
    {
     "data": {
      "image/png": "[encoded data removed]",
      "text/plain": [
       "<matplotlib.figure.Figure at 0x1135c7160>"
      ]
     },
     "metadata": {},
     "output_type": "display_data"
    }
   ],
   "source": [
    "plt.scatter(y_test.values.astype(np.float),mlp.predict(X_test))"
   ]
  },
  {
   "cell_type": "code",
   "execution_count": 23,
   "metadata": {
    "collapsed": false
   },
   "outputs": [
    {
     "data": {
      "text/plain": [
       "numpy.ndarray"
      ]
     },
     "execution_count": 23,
     "metadata": {},
     "output_type": "execute_result"
    }
   ],
   "source": [
    "type(y_test.values)"
   ]
  },
  {
   "cell_type": "code",
   "execution_count": 22,
   "metadata": {
    "collapsed": false
   },
   "outputs": [
    {
     "data": {
      "text/plain": [
       "numpy.ndarray"
      ]
     },
     "execution_count": 22,
     "metadata": {},
     "output_type": "execute_result"
    }
   ],
   "source": [
    "type(np.random.rand(10))"
   ]
  },
  {
   "cell_type": "code",
   "execution_count": 24,
   "metadata": {
    "collapsed": false
   },
   "outputs": [
    {
     "data": {
      "text/plain": [
       "numpy.ndarray"
      ]
     },
     "execution_count": 24,
     "metadata": {},
     "output_type": "execute_result"
    }
   ],
   "source": [
    "type(mlp.predict(X_test))"
   ]
  },
  {
   "cell_type": "code",
   "execution_count": 63,
   "metadata": {
    "collapsed": false
   },
   "outputs": [
    {
     "data": {
      "text/plain": [
       "2.0711183418972334"
      ]
     },
     "execution_count": 63,
     "metadata": {},
     "output_type": "execute_result"
    }
   ],
   "source": [
    "np.mean(y_test.values.astype(np.float))"
   ]
  },
  {
   "cell_type": "code",
   "execution_count": null,
   "metadata": {
    "collapsed": true
   },
   "outputs": [],
   "source": []
  }
 ],
 "metadata": {
  "anaconda-cloud": {},
  "kernelspec": {
   "display_name": "Python [default]",
   "language": "python",
   "name": "python3"
  },
  "language_info": {
   "codemirror_mode": {
    "name": "ipython",
    "version": 3
   },
   "file_extension": ".py",
   "mimetype": "text/x-python",
   "name": "python",
   "nbconvert_exporter": "python",
   "pygments_lexer": "ipython3",
   "version": "3.5.2"
  }
 },
 "nbformat": 4,
 "nbformat_minor": 2
}
