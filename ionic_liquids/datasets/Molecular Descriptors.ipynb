{
 "cells": [
  {
   "cell_type": "markdown",
   "metadata": {
    "collapsed": true
   },
   "source": [
    "# [HBL] It seems the size of the hidden layer is a critical parameter to get the non-identical numbers."
   ]
  },
  {
   "cell_type": "code",
   "execution_count": 1,
   "metadata": {
    "collapsed": false
   },
   "outputs": [],
   "source": [
    "import pandas as pd\n",
    "import matplotlib.pyplot as plt\n",
    "import numpy as np\n",
    "from __future__ import print_function\n",
    "from rdkit import Chem\n",
    "from rdkit.Chem import AllChem\n",
    "from rdkit.Chem import Descriptors\n",
    "from sklearn.model_selection import train_test_split\n",
    "from sklearn.neural_network import MLPClassifier\n",
    "from rdkit.ML.Descriptors.MoleculeDescriptors import MolecularDescriptorCalculator as Calculator\n",
    "\n",
    "\n"
   ]
  },
  {
   "cell_type": "code",
   "execution_count": 2,
   "metadata": {
    "collapsed": false
   },
   "outputs": [
    {
     "data": {
      "text/html": [
       "<div>\n",
       "<table border=\"1\" class=\"dataframe\">\n",
       "  <thead>\n",
       "    <tr style=\"text-align: right;\">\n",
       "      <th></th>\n",
       "      <th>NUM</th>\n",
       "      <th>A</th>\n",
       "      <th>B</th>\n",
       "      <th>MOLFRC(for A and B)</th>\n",
       "      <th>T</th>\n",
       "      <th>P</th>\n",
       "      <th>ELE_COD</th>\n",
       "      <th>EC_value</th>\n",
       "      <th>EC_error</th>\n",
       "    </tr>\n",
       "  </thead>\n",
       "  <tbody>\n",
       "    <tr>\n",
       "      <th>0</th>\n",
       "      <td>1</td>\n",
       "      <td>[O-]S(=O)(=O)C.c1c[n+](cn1CCCC)C</td>\n",
       "      <td>O</td>\n",
       "      <td>0.004</td>\n",
       "      <td>298.15</td>\n",
       "      <td>101</td>\n",
       "      <td>1.166 ± 0.058</td>\n",
       "      <td>1.166</td>\n",
       "      <td>0.058</td>\n",
       "    </tr>\n",
       "    <tr>\n",
       "      <th>1</th>\n",
       "      <td>2</td>\n",
       "      <td>[O-]S(=O)(=O)C.c1c[n+](cn1CCCC)C</td>\n",
       "      <td>O</td>\n",
       "      <td>0.004</td>\n",
       "      <td>299.15</td>\n",
       "      <td>101</td>\n",
       "      <td>1.203 ± 0.06</td>\n",
       "      <td>1.203</td>\n",
       "      <td>0.06</td>\n",
       "    </tr>\n",
       "    <tr>\n",
       "      <th>2</th>\n",
       "      <td>3</td>\n",
       "      <td>[O-]S(=O)(=O)C.c1c[n+](cn1CCCC)C</td>\n",
       "      <td>O</td>\n",
       "      <td>0.004</td>\n",
       "      <td>300.15</td>\n",
       "      <td>101</td>\n",
       "      <td>1.242 ± 0.062</td>\n",
       "      <td>1.242</td>\n",
       "      <td>0.062</td>\n",
       "    </tr>\n",
       "    <tr>\n",
       "      <th>3</th>\n",
       "      <td>4</td>\n",
       "      <td>[O-]S(=O)(=O)C.c1c[n+](cn1CCCC)C</td>\n",
       "      <td>O</td>\n",
       "      <td>0.004</td>\n",
       "      <td>301.15</td>\n",
       "      <td>101</td>\n",
       "      <td>1.271 ± 0.064</td>\n",
       "      <td>1.271</td>\n",
       "      <td>0.064</td>\n",
       "    </tr>\n",
       "    <tr>\n",
       "      <th>4</th>\n",
       "      <td>5</td>\n",
       "      <td>[O-]S(=O)(=O)C.c1c[n+](cn1CCCC)C</td>\n",
       "      <td>O</td>\n",
       "      <td>0.004</td>\n",
       "      <td>302.15</td>\n",
       "      <td>101</td>\n",
       "      <td>1.289 ± 0.064</td>\n",
       "      <td>1.289</td>\n",
       "      <td>0.064</td>\n",
       "    </tr>\n",
       "  </tbody>\n",
       "</table>\n",
       "</div>"
      ],
      "text/plain": [
       "   NUM                                  A  B  MOLFRC(for A and B)       T  \\\n",
       "0    1   [O-]S(=O)(=O)C.c1c[n+](cn1CCCC)C  O                0.004  298.15   \n",
       "1    2   [O-]S(=O)(=O)C.c1c[n+](cn1CCCC)C  O                0.004  299.15   \n",
       "2    3   [O-]S(=O)(=O)C.c1c[n+](cn1CCCC)C  O                0.004  300.15   \n",
       "3    4   [O-]S(=O)(=O)C.c1c[n+](cn1CCCC)C  O                0.004  301.15   \n",
       "4    5   [O-]S(=O)(=O)C.c1c[n+](cn1CCCC)C  O                0.004  302.15   \n",
       "\n",
       "     P        ELE_COD EC_value EC_error  \n",
       "0  101  1.166 ± 0.058   1.166     0.058  \n",
       "1  101   1.203 ± 0.06   1.203      0.06  \n",
       "2  101  1.242 ± 0.062   1.242     0.062  \n",
       "3  101  1.271 ± 0.064   1.271     0.064  \n",
       "4  101  1.289 ± 0.064   1.289     0.064  "
      ]
     },
     "execution_count": 2,
     "metadata": {},
     "output_type": "execute_result"
    }
   ],
   "source": [
    "#Data Cleaning\n",
    "data = pd.read_excel(\"inputdata.xlsx\")\n",
    "data['EC_value'], data['EC_error'] = zip(*data['ELE_COD'].map(lambda x: x.split('±')))\n",
    "data.head()"
   ]
  },
  {
   "cell_type": "code",
   "execution_count": 3,
   "metadata": {
    "collapsed": false
   },
   "outputs": [
    {
     "name": "stdout",
     "output_type": "stream",
     "text": [
      "2523 21\n"
     ]
    }
   ],
   "source": [
    "#Setting up for molecular descriptors\n",
    "n = data.shape[0]\n",
    "list_of_descriptors = ['NumHeteroatoms','MolWt','ExactMolWt','NOCount','NumHDonors','RingCount','NumAromaticRings','NumSaturatedRings','NumAliphaticRings']\n",
    "calc = Calculator(list_of_descriptors)\n",
    "D = len(list_of_descriptors)\n",
    "d = len(list_of_descriptors)*2 + 3\n",
    "print(n,d)"
   ]
  },
  {
   "cell_type": "code",
   "execution_count": 4,
   "metadata": {
    "collapsed": true
   },
   "outputs": [],
   "source": [
    "#setting up the x and y matrices\n",
    "X = np.zeros((n,d))\n",
    "X[:,-3] = data['T']\n",
    "X[:,-2] = data['P']\n",
    "for i in range(n):\n",
    "    A = Chem.MolFromSmiles(data['A'][i])\n",
    "    B = Chem.MolFromSmiles(data['B'][i])\n",
    "    X[i][:D]    = calc.CalcDescriptors(A)\n",
    "    X[i][D:2*D] = calc.CalcDescriptors(B)\n",
    "\n",
    "y = data['EC_value']\n",
    "\n"
   ]
  },
  {
   "cell_type": "code",
   "execution_count": 5,
   "metadata": {
    "collapsed": false
   },
   "outputs": [],
   "source": [
    "X_train, X_test, y_train, y_test = train_test_split(X, y, test_size=0.1)\n"
   ]
  },
  {
   "cell_type": "code",
   "execution_count": 27,
   "metadata": {
    "collapsed": false
   },
   "outputs": [
    {
     "name": "stderr",
     "output_type": "stream",
     "text": [
      "/Users/hbliu/miniconda3/lib/python3.5/site-packages/sklearn/neural_network/multilayer_perceptron.py:563: ConvergenceWarning: Stochastic Optimizer: Maximum iterations reached and the optimization hasn't converged yet.\n",
      "  % (), ConvergenceWarning)\n"
     ]
    },
    {
     "data": {
      "text/plain": [
       "MLPClassifier(activation='logistic', alpha=0.0001, batch_size='auto',\n",
       "       beta_1=0.9, beta_2=0.999, early_stopping=False, epsilon=1e-08,\n",
       "       hidden_layer_sizes=(100,), learning_rate='constant',\n",
       "       learning_rate_init=0.01, max_iter=500, momentum=0.9,\n",
       "       nesterovs_momentum=True, power_t=0.5, random_state=None,\n",
       "       shuffle=True, solver='sgd', tol=0.0001, validation_fraction=0.1,\n",
       "       verbose=False, warm_start=False)"
      ]
     },
     "execution_count": 27,
     "metadata": {},
     "output_type": "execute_result"
    }
   ],
   "source": [
    "#Neural Network\n",
    "mlp = MLPClassifier(hidden_layer_sizes=(100,),activation='logistic',solver='sgd',learning_rate_init=0.01,max_iter=500)\n",
    "\n",
    "mlp.fit(X_train, y_train)\n",
    "\n",
    "#print mlp.score(X_test,y_test)"
   ]
  },
  {
   "cell_type": "code",
   "execution_count": 28,
   "metadata": {
    "collapsed": false
   },
   "outputs": [
    {
     "data": {
      "text/plain": [
       "array(['0.001 ', '6.12 ', '0.0002334 ', '6.12 ', '0.384 ', '0.002 ',\n",
       "       '6.12 ', '6.12 ', '0.002 ', '0.0002334 ', '0.001 ', '0.001 ',\n",
       "       '0.001 ', '0.002 ', '0.001136 ', '0.0002334 ', '0.001136 ',\n",
       "       '1.437 ', '0.002 ', '6.12 ', '0.001 ', '0.001 ', '0.0002334 ',\n",
       "       '0.001318 ', '0.002 ', '6.12 ', '0.384 ', '0.001 ', '6.12 ',\n",
       "       '0.384 ', '0.002 ', '0.002 ', '0.001136 ', '6.12 ', '0.002 ',\n",
       "       '0.384 ', '6.12 ', '6.12 ', '0.001318 ', '0.001 ', '1.437 ',\n",
       "       '0.001 ', '6.12 ', '6.12 ', '6.12 ', '0.002 ', '6.12 ', '6.12 ',\n",
       "       '0.001 ', '6.12 ', '0.001 ', '0.384 ', '1.437 ', '0.001318 ',\n",
       "       '0.002 ', '6.12 ', '0.001136 ', '0.001 ', '0.001 ', '6.12 ',\n",
       "       '0.001 ', '0.001318 ', '0.001318 ', '0.001136 ', '0.001318 ',\n",
       "       '0.001 ', '0.001 ', '6.12 ', '6.12 ', '0.001136 ', '0.001 ',\n",
       "       '6.12 ', '0.001 ', '0.001 ', '0.001 ', '1.437 ', '0.001 ', '6.12 ',\n",
       "       '0.001 ', '6.12 ', '1.437 ', '0.001 ', '0.384 ', '0.001 ', '6.12 ',\n",
       "       '6.12 ', '0.001 ', '0.001 ', '0.002 ', '0.384 ', '0.384 ', '6.12 ',\n",
       "       '6.12 ', '0.384 ', '6.12 ', '1.437 ', '0.001 ', '6.12 ', '0.002 ',\n",
       "       '6.12 ', '6.12 ', '6.12 ', '0.001 ', '0.001136 ', '6.12 ', '0.001 ',\n",
       "       '0.002 ', '0.001318 ', '0.001 ', '0.0002334 ', '0.002 ', '0.384 ',\n",
       "       '0.001 ', '6.12 ', '0.001 ', '0.001136 ', '0.002 ', '6.12 ',\n",
       "       '6.12 ', '6.12 ', '6.12 ', '0.001 ', '6.12 ', '6.12 ', '0.001 ',\n",
       "       '0.0002334 ', '0.001 ', '0.0002334 ', '0.001318 ', '0.002 ',\n",
       "       '6.12 ', '6.12 ', '0.384 ', '0.384 ', '0.001 ', '0.001 ', '0.001 ',\n",
       "       '0.384 ', '0.001 ', '0.001136 ', '0.002 ', '0.384 ', '0.002 ',\n",
       "       '6.12 ', '6.12 ', '6.12 ', '6.12 ', '6.12 ', '0.001 ', '6.12 ',\n",
       "       '0.002 ', '0.002 ', '0.002 ', '0.001 ', '0.001318 ', '0.002 ',\n",
       "       '0.001 ', '1.437 ', '0.001136 ', '0.001136 ', '0.002 ', '0.001 ',\n",
       "       '1.437 ', '0.384 ', '0.002 ', '0.001 ', '6.12 ', '0.001136 ',\n",
       "       '6.12 ', '0.002 ', '0.002 ', '0.002 ', '0.001 ', '0.384 ', '0.001 ',\n",
       "       '0.001 ', '1.437 ', '0.001 ', '0.002 ', '1.437 ', '0.001 ',\n",
       "       '0.001 ', '6.12 ', '0.001 ', '0.001136 ', '0.001136 ', '0.002 ',\n",
       "       '0.001318 ', '0.384 ', '0.001318 ', '0.384 ', '0.001 ', '0.001 ',\n",
       "       '6.12 ', '6.12 ', '0.001 ', '0.001 ', '0.001 ', '1.437 ', '6.12 ',\n",
       "       '0.384 ', '0.001318 ', '0.001136 ', '0.384 ', '0.001318 ', '0.001 ',\n",
       "       '0.001 ', '0.001 ', '6.12 ', '0.0002334 ', '0.001318 ', '6.12 ',\n",
       "       '6.12 ', '6.12 ', '0.001 ', '0.001 ', '0.002 ', '6.12 ', '0.002 ',\n",
       "       '0.384 ', '0.0002334 ', '0.001136 ', '1.437 ', '0.001136 ', '6.12 ',\n",
       "       '0.002 ', '6.12 ', '0.001 ', '0.001 ', '0.002 ', '6.12 ', '0.001 ',\n",
       "       '1.437 ', '0.384 ', '6.12 ', '1.437 ', '0.001 ', '6.12 ', '6.12 ',\n",
       "       '6.12 ', '0.421 ', '0.12 ', '0.001 ', '6.12 ', '6.12 ', '0.001318 ',\n",
       "       '6.12 ', '0.001 ', '0.002 ', '0.384 ', '6.12 ', '0.002 ',\n",
       "       '0.0002334 '], \n",
       "      dtype='<U10')"
      ]
     },
     "execution_count": 28,
     "metadata": {},
     "output_type": "execute_result"
    }
   ],
   "source": [
    "mlp.predict(X_test)"
   ]
  },
  {
   "cell_type": "code",
   "execution_count": 23,
   "metadata": {
    "collapsed": false
   },
   "outputs": [
    {
     "data": {
      "text/plain": [
       "714         0.193 \n",
       "1048        1.128 \n",
       "2345     0.001182 \n",
       "89          3.427 \n",
       "1726        0.483 \n",
       "1328        0.384 \n",
       "143         5.066 \n",
       "2197         4.61 \n",
       "1009        0.962 \n",
       "1940    0.0002459 \n",
       "52          2.666 \n",
       "284         9.153 \n",
       "1200        0.102 \n",
       "1005        0.816 \n",
       "2038     0.008471 \n",
       "1956    0.0003212 \n",
       "2039      0.00833 \n",
       "1813        0.832 \n",
       "1359        0.997 \n",
       "430          3.04 \n",
       "1107        0.759 \n",
       "1478        0.552 \n",
       "1955    0.0003521 \n",
       "2422     0.002776 \n",
       "1353        0.328 \n",
       "192         4.781 \n",
       "1560        0.251 \n",
       "1221         0.14 \n",
       "2176         3.79 \n",
       "1703        0.322 \n",
       "           ...    \n",
       "1983     0.007001 \n",
       "2236         4.62 \n",
       "987         0.462 \n",
       "316         5.152 \n",
       "755         0.356 \n",
       "1244        0.143 \n",
       "956         0.634 \n",
       "2502      0.01283 \n",
       "1123        0.489 \n",
       "1797         1.04 \n",
       "1600        0.434 \n",
       "578         3.422 \n",
       "1830        1.129 \n",
       "1270        0.109 \n",
       "2214         3.95 \n",
       "202         5.825 \n",
       "2133          6.3 \n",
       "1656        0.504 \n",
       "1641        0.641 \n",
       "592         4.677 \n",
       "257         5.647 \n",
       "6           1.336 \n",
       "2402     0.001928 \n",
       "456         5.754 \n",
       "1507         0.68 \n",
       "1318        0.817 \n",
       "1675       0.1396 \n",
       "131         4.024 \n",
       "888         0.532 \n",
       "1937    0.0002554 \n",
       "Name: EC_value, dtype: object"
      ]
     },
     "execution_count": 23,
     "metadata": {},
     "output_type": "execute_result"
    }
   ],
   "source": [
    "y_test"
   ]
  },
  {
   "cell_type": "code",
   "execution_count": null,
   "metadata": {
    "collapsed": true
   },
   "outputs": [],
   "source": []
  }
 ],
 "metadata": {
  "anaconda-cloud": {},
  "kernelspec": {
   "display_name": "Python [default]",
   "language": "python",
   "name": "python3"
  },
  "language_info": {
   "codemirror_mode": {
    "name": "ipython",
    "version": 3
   },
   "file_extension": ".py",
   "mimetype": "text/x-python",
   "name": "python",
   "nbconvert_exporter": "python",
   "pygments_lexer": "ipython3",
   "version": "3.5.2"
  }
 },
 "nbformat": 4,
 "nbformat_minor": 2
}
