{
 "cells": [
  {
   "cell_type": "code",
   "execution_count": null,
   "metadata": {
    "collapsed": true
   },
   "outputs": [],
   "source": []
  },
  {
   "cell_type": "code",
   "execution_count": 4,
   "metadata": {
    "collapsed": false
   },
   "outputs": [],
   "source": [
    "import pandas as pd\n",
    "import matplotlib.pyplot as plt\n",
    "import numpy as np\n",
    "from __future__ import print_function\n",
    "from rdkit import Chem\n",
    "from rdkit.Chem import AllChem\n",
    "from rdkit.Chem import Descriptors\n",
    "from sklearn.model_selection import train_test_split\n",
    "from sklearn.neural_network import MLPClassifier\n",
    "from rdkit.ML.Descriptors.MoleculeDescriptors import MolecularDescriptorCalculator as Calculator\n",
    "\n",
    "\n"
   ]
  },
  {
   "cell_type": "code",
   "execution_count": 5,
   "metadata": {
    "collapsed": false
   },
   "outputs": [
    {
     "data": {
      "text/html": [
       "<div>\n",
       "<table border=\"1\" class=\"dataframe\">\n",
       "  <thead>\n",
       "    <tr style=\"text-align: right;\">\n",
       "      <th></th>\n",
       "      <th>NUM</th>\n",
       "      <th>A</th>\n",
       "      <th>B</th>\n",
       "      <th>MOLFRC(for A and B)</th>\n",
       "      <th>T</th>\n",
       "      <th>P</th>\n",
       "      <th>ELE_COD</th>\n",
       "      <th>EC_value</th>\n",
       "      <th>EC_error</th>\n",
       "    </tr>\n",
       "  </thead>\n",
       "  <tbody>\n",
       "    <tr>\n",
       "      <th>0</th>\n",
       "      <td>1</td>\n",
       "      <td>[O-]S(=O)(=O)C.c1c[n+](cn1CCCC)C</td>\n",
       "      <td>O</td>\n",
       "      <td>0.004</td>\n",
       "      <td>298.15</td>\n",
       "      <td>101</td>\n",
       "      <td>1.166 ± 0.058</td>\n",
       "      <td>1.166</td>\n",
       "      <td>0.058</td>\n",
       "    </tr>\n",
       "    <tr>\n",
       "      <th>1</th>\n",
       "      <td>2</td>\n",
       "      <td>[O-]S(=O)(=O)C.c1c[n+](cn1CCCC)C</td>\n",
       "      <td>O</td>\n",
       "      <td>0.004</td>\n",
       "      <td>299.15</td>\n",
       "      <td>101</td>\n",
       "      <td>1.203 ± 0.06</td>\n",
       "      <td>1.203</td>\n",
       "      <td>0.06</td>\n",
       "    </tr>\n",
       "    <tr>\n",
       "      <th>2</th>\n",
       "      <td>3</td>\n",
       "      <td>[O-]S(=O)(=O)C.c1c[n+](cn1CCCC)C</td>\n",
       "      <td>O</td>\n",
       "      <td>0.004</td>\n",
       "      <td>300.15</td>\n",
       "      <td>101</td>\n",
       "      <td>1.242 ± 0.062</td>\n",
       "      <td>1.242</td>\n",
       "      <td>0.062</td>\n",
       "    </tr>\n",
       "    <tr>\n",
       "      <th>3</th>\n",
       "      <td>4</td>\n",
       "      <td>[O-]S(=O)(=O)C.c1c[n+](cn1CCCC)C</td>\n",
       "      <td>O</td>\n",
       "      <td>0.004</td>\n",
       "      <td>301.15</td>\n",
       "      <td>101</td>\n",
       "      <td>1.271 ± 0.064</td>\n",
       "      <td>1.271</td>\n",
       "      <td>0.064</td>\n",
       "    </tr>\n",
       "    <tr>\n",
       "      <th>4</th>\n",
       "      <td>5</td>\n",
       "      <td>[O-]S(=O)(=O)C.c1c[n+](cn1CCCC)C</td>\n",
       "      <td>O</td>\n",
       "      <td>0.004</td>\n",
       "      <td>302.15</td>\n",
       "      <td>101</td>\n",
       "      <td>1.289 ± 0.064</td>\n",
       "      <td>1.289</td>\n",
       "      <td>0.064</td>\n",
       "    </tr>\n",
       "  </tbody>\n",
       "</table>\n",
       "</div>"
      ],
      "text/plain": [
       "   NUM                                  A  B  MOLFRC(for A and B)       T  \\\n",
       "0    1   [O-]S(=O)(=O)C.c1c[n+](cn1CCCC)C  O                0.004  298.15   \n",
       "1    2   [O-]S(=O)(=O)C.c1c[n+](cn1CCCC)C  O                0.004  299.15   \n",
       "2    3   [O-]S(=O)(=O)C.c1c[n+](cn1CCCC)C  O                0.004  300.15   \n",
       "3    4   [O-]S(=O)(=O)C.c1c[n+](cn1CCCC)C  O                0.004  301.15   \n",
       "4    5   [O-]S(=O)(=O)C.c1c[n+](cn1CCCC)C  O                0.004  302.15   \n",
       "\n",
       "     P        ELE_COD EC_value EC_error  \n",
       "0  101  1.166 ± 0.058   1.166     0.058  \n",
       "1  101   1.203 ± 0.06   1.203      0.06  \n",
       "2  101  1.242 ± 0.062   1.242     0.062  \n",
       "3  101  1.271 ± 0.064   1.271     0.064  \n",
       "4  101  1.289 ± 0.064   1.289     0.064  "
      ]
     },
     "execution_count": 5,
     "metadata": {},
     "output_type": "execute_result"
    }
   ],
   "source": [
    "#Data Cleaning\n",
    "data = pd.read_excel(\"inputdata.xlsx\")\n",
    "data['EC_value'], data['EC_error'] = zip(*data['ELE_COD'].map(lambda x: x.split('±')))\n",
    "data.head()"
   ]
  },
  {
   "cell_type": "code",
   "execution_count": 6,
   "metadata": {
    "collapsed": false
   },
   "outputs": [
    {
     "name": "stdout",
     "output_type": "stream",
     "text": [
      "2523 21\n"
     ]
    }
   ],
   "source": [
    "#Setting up for molecular descriptors\n",
    "n = data.shape[0]\n",
    "list_of_descriptors = ['NumHeteroatoms','MolWt','ExactMolWt','NOCount','NumHDonors','RingCount','NumAromaticRings','NumSaturatedRings','NumAliphaticRings']\n",
    "calc = Calculator(list_of_descriptors)\n",
    "D = len(list_of_descriptors)\n",
    "d = len(list_of_descriptors)*2 + 3\n",
    "print(n,d)"
   ]
  },
  {
   "cell_type": "code",
   "execution_count": 9,
   "metadata": {
    "collapsed": true
   },
   "outputs": [],
   "source": [
    "#setting up the x and y matrices\n",
    "X = np.zeros((n,d))\n",
    "X[:,-3] = data['T']\n",
    "X[:,-2] = data['P']\n",
    "for i in range(n):\n",
    "    A = Chem.MolFromSmiles(data['A'][i])\n",
    "    B = Chem.MolFromSmiles(data['B'][i])\n",
    "    X[i][:D]    = calc.CalcDescriptors(A)\n",
    "    X[i][D:2*D] = calc.CalcDescriptors(B)\n",
    "\n",
    "y = data['EC_value']\n",
    "\n"
   ]
  },
  {
   "cell_type": "code",
   "execution_count": 10,
   "metadata": {
    "collapsed": false
   },
   "outputs": [
    {
     "name": "stdout",
     "output_type": "stream",
     "text": [
      "[[   6.          234.321       234.10381344 ...,  298.15        101.            0.        ]\n",
      " [   6.          234.321       234.10381344 ...,  299.15        101.            0.        ]\n",
      " [   6.          234.321       234.10381344 ...,  300.15        101.            0.        ]\n",
      " ..., \n",
      " [   7.          254.08        254.15774189 ...,  328.15        101.            0.        ]\n",
      " [   7.          254.08        254.15774189 ...,  328.15        101.            0.        ]\n",
      " [   7.          254.08        254.15774189 ...,  328.15        101.            0.        ]]\n"
     ]
    }
   ],
   "source": [
    "X_train, X_test, y_train, y_test = train_test_split(X, y, test_size=0.1)\n"
   ]
  },
  {
   "cell_type": "code",
   "execution_count": null,
   "metadata": {
    "collapsed": true
   },
   "outputs": [],
   "source": [
    "#Neural Network\n",
    "mlp = MLPClassifier(hidden_layer_sizes(10),solver='sgd',learning_rate_init=0.01,max_iter=500)\n",
    "\n",
    "mlp.fit(X_train, y_train)\n",
    "\n",
    "print mlp.score(X_test,y_test)"
   ]
  }
 ],
 "metadata": {
  "anaconda-cloud": {},
  "kernelspec": {
   "display_name": "Python [default]",
   "language": "python",
   "name": "python3"
  },
  "language_info": {
   "codemirror_mode": {
    "name": "ipython",
    "version": 3
   },
   "file_extension": ".py",
   "mimetype": "text/x-python",
   "name": "python",
   "nbconvert_exporter": "python",
   "pygments_lexer": "ipython3",
   "version": "3.5.2"
  }
 },
 "nbformat": 4,
 "nbformat_minor": 2
}
