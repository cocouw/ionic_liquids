{
 "cells": [
  {
   "cell_type": "code",
   "execution_count": 5,
   "metadata": {
    "collapsed": false
   },
   "outputs": [],
   "source": [
    "import pandas as pd\n",
    "import matplotlib.pyplot as plt\n",
    "import numpy as np\n",
    "from __future__ import print_function\n",
    "from rdkit import Chem\n",
    "from rdkit.Chem import AllChem\n",
    "from rdkit.Chem import Descriptors\n",
    "from sklearn.model_selection import train_test_split\n",
    "from sklearn.neural_network import MLPClassifier\n",
    "from rdkit.ML.Descriptors.MoleculeDescriptors import MolecularDescriptorCalculator as Calculator"
   ]
  },
  {
   "cell_type": "code",
   "execution_count": 6,
   "metadata": {
    "collapsed": false
   },
   "outputs": [
    {
     "name": "stdout",
     "output_type": "stream",
     "text": [
      "(2523, 9)\n",
      "Empty DataFrame\n",
      "Columns: [NUM, A, B, MOLFRC_A, T, P, ELE_COD, EC_value, EC_error]\n",
      "Index: []\n"
     ]
    }
   ],
   "source": [
    "#Data Cleaning\n",
    "data = pd.read_excel(\"inputdata.xlsx\")\n",
    "data['EC_value'], data['EC_error'] = zip(*data['ELE_COD'].map(lambda x: x.split('±')))\n",
    "print(data.shape)\n",
    "data.head()\n",
    "print(data[2523:2525])"
   ]
  },
  {
   "cell_type": "code",
   "execution_count": 7,
   "metadata": {
    "collapsed": false
   },
   "outputs": [],
   "source": [
    "#Generate Selective Descriptors\n",
    "def gen_selec_des(data):\n",
    "    f = open('Deslist_selective','r')\n",
    "    Deslist = []\n",
    "    for line in f:\n",
    "        Deslist.append(line.strip('\\n\\t'))\n",
    "    print(\"Generating selective descriptors:\")\n",
    "    print(Deslist)\n",
    "    calc = Calculator(Deslist)\n",
    "    n = data.shape[0]\n",
    "    D = len(Deslist)\n",
    "    d = len(Deslist)*2+3\n",
    "    X = np.zeros((n,d))\n",
    "    Y = np.zeros((n,1))\n",
    "    Z = np.zeros((n,1))\n",
    "    X[:,-3] = data['T']\n",
    "    X[:,-2] = data['P']\n",
    "    X[:,-1] = data['MOLFRC_A']\n",
    "    c = 0\n",
    "    for i in range(n):\n",
    "        if i == 2524 :\n",
    "            print(data['A'][i])\n",
    "        A = Chem.MolFromSmiles(data['A'][i])\n",
    "        B = Chem.MolFromSmiles(data['B'][i])\n",
    "        if A is None:\n",
    "            print(\"%d A is invalid\"%(i))\n",
    "            continue\n",
    "        if B is None:\n",
    "            print(\"%d B is invalid\"%(i))\n",
    "            cotinue\n",
    "        X[c][:D]    = calc.CalcDescriptors(A)\n",
    "        X[c][D:2*D] = calc.CalcDescriptors(B)\n",
    "        Y[c] = data['EC_value'][i]\n",
    "        Z[c] = data['EC_error'][i]\n",
    "        c += 1\n",
    "    np.savetxt('Selective_descriptors_X',X)\n",
    "    np.savetxt('Selective_descriptors_Y',Y)\n",
    "    np.savetxt('Selective_descriptors_error',Z)"
   ]
  },
  {
   "cell_type": "code",
   "execution_count": 8,
   "metadata": {
    "collapsed": false
   },
   "outputs": [],
   "source": [
    "def gen_2D_des(data):\n",
    "    f = open('Deslist_2D','r')\n",
    "    Deslist = []\n",
    "    for line in f:\n",
    "        Deslist.append(line.strip('\\n\\t'))\n",
    "    print('Generating 2D descriptors')\n",
    "    print(Deslist)\n",
    "    calc = Calculator(Deslist)\n",
    "    n = data.shape[0]\n",
    "    D = len(Deslist)\n",
    "    d = len(Deslist)*2+3\n",
    "    X = np.zeros((n,d))\n",
    "    Y = np.zeros((n,1))\n",
    "    Z = np.zeros((n,1))\n",
    "    X[:,-3] = data['T']\n",
    "    X[:,-2] = data['P']\n",
    "    X[:,-1] = data['MOLFRC_A']\n",
    "    c = 0\n",
    "    for i in range(n):\n",
    "        if i == 2524 :\n",
    "            print(data['A'][i])\n",
    "        A = Chem.MolFromSmiles(data['A'][i])\n",
    "        B = Chem.MolFromSmiles(data['B'][i])\n",
    "        if A is None:\n",
    "            print(\"%d A is invalid\"%(i))\n",
    "            continue\n",
    "        if B is None:\n",
    "            print(\"%d B is invalid\"%(i))\n",
    "            cotinue\n",
    "        X[c][:D]    = calc.CalcDescriptors(A)\n",
    "        X[c][D:2*D] = calc.CalcDescriptors(B)\n",
    "        Y[c] = data['EC_value'][i]\n",
    "        c += 1\n",
    "    np.savetxt('2D_descriptors_X',X)\n",
    "    np.savetxt('2D_descriptors_Y',Y)\n",
    "    np.savetxt('2D_descriptors_error',Z)"
   ]
  },
  {
   "cell_type": "code",
   "execution_count": 9,
   "metadata": {
    "collapsed": false
   },
   "outputs": [
    {
     "name": "stdout",
     "output_type": "stream",
     "text": [
      "Generating selective descriptors:\n",
      "['NumHeteroatoms', 'MolWt', 'ExactMolWt', 'NOCount', 'NumHDonors', 'RingCount', 'NumAromaticRings', 'NumSaturatedRings', 'NumAliphaticRings']\n",
      "Generating 2D descriptors\n",
      "['steiger', 'Marsili Partial Charges', 'BalabanJ', 'BertzCT', 'Ipc', 'HallKierAlpha', 'Kappa1', 'Kappa2', 'Kappa3', 'Chi0', 'Chi1', 'Chi0n', 'Chi1n', 'Chi2n', 'Chi3n', 'Chi4n', 'Chi0v', 'Chi1v', 'Chi2v', 'Chi3v', 'Chi4v', 'MolLogP', 'MolMR', 'MolWt', 'HeavyAtomCount', 'HeavyAtomMolWt', 'NHOHCount', 'NOCount', 'NumHAcceptors', 'NumHDonors', 'NumHeteroatoms', 'NumRotatableBonds', 'NumValenceElectrons', 'RingCount', 'TPSA', 'LabuteASA', 'PEOE_VSA1', 'PEOE_VSA2', 'PEOE_VSA3', 'PEOE_VSA4', 'PEOE_VSA5', 'PEOE_VSA6', 'PEOE_VSA7', 'PEOE_VSA8', 'PEOE_VSA9', 'PEOE_VSA10', 'PEOE_VSA11', 'PEOE_VSA12', 'PEOE_VSA13', 'PEOE_VSA14', 'SMR_VSA1', 'SMR_VSA2', 'SMR_VSA3', 'SMR_VSA4', 'SMR_VSA5', 'SMR_VSA6', 'SMR_VSA7', 'SMR_VSA8', 'SMR_VSA9', 'SMR_VSA10', 'SlogP_VSA1', 'SlogP_VSA2', 'SlogP_VSA3', 'SlogP_VSA4', 'SlogP_VSA5', 'SlogP_VSA6', 'SlogP_VSA7', 'SlogP_VSA8', 'SlogP_VSA9', 'SlogP_VSA10', 'SlogP_VSA11', 'SlogP_VSA12', 'EState_VSA1', 'EState_VSA2', 'EState_VSA3', 'EState_VSA4', 'EState_VSA5', 'EState_VSA6', 'EState_VSA7', 'EState_VSA8', 'EState_VSA9', 'EState_VSA10', 'EState_VSA11', 'VSA_EState1', 'VSA_EState2', 'VSA_EState3', 'VSA_EState4', 'VSA_EState5', 'VSA_EState6', 'VSA_EState7', 'VSA_EState8', 'VSA_EState9', 'VSA_EState10', 'Topliss fragments']\n"
     ]
    },
    {
     "ename": "NameError",
     "evalue": "name 'gen_' is not defined",
     "output_type": "error",
     "traceback": [
      "\u001b[0;31m---------------------------------------------------------------------------\u001b[0m",
      "\u001b[0;31mNameError\u001b[0m                                 Traceback (most recent call last)",
      "\u001b[0;32m<ipython-input-9-4cfc541e0004>\u001b[0m in \u001b[0;36m<module>\u001b[0;34m()\u001b[0m\n\u001b[1;32m      1\u001b[0m \u001b[0mgen_selec_des\u001b[0m\u001b[0;34m(\u001b[0m\u001b[0mdata\u001b[0m\u001b[0;34m)\u001b[0m\u001b[0;34m\u001b[0m\u001b[0m\n\u001b[1;32m      2\u001b[0m \u001b[0mgen_2D_des\u001b[0m\u001b[0;34m(\u001b[0m\u001b[0mdata\u001b[0m\u001b[0;34m)\u001b[0m\u001b[0;34m\u001b[0m\u001b[0m\n\u001b[0;32m----> 3\u001b[0;31m \u001b[0mgen_\u001b[0m\u001b[0;34m\u001b[0m\u001b[0m\n\u001b[0m",
      "\u001b[0;31mNameError\u001b[0m: name 'gen_' is not defined"
     ]
    }
   ],
   "source": [
    "gen_selec_des(data)\n",
    "gen_2D_des(data)\n"
   ]
  },
  {
   "cell_type": "code",
   "execution_count": 35,
   "metadata": {
    "collapsed": false
   },
   "outputs": [
    {
     "data": {
      "text/plain": [
       "rdkit.DataStructs.cDataStructs.ExplicitBitVect"
      ]
     },
     "execution_count": 35,
     "metadata": {},
     "output_type": "execute_result"
    }
   ],
   "source": [
    "m1 = Chem.MolFromSmiles('c1ccccn1')\n",
    "fp1 = AllChem.GetMorganFingerprint(m1,2)\n",
    "v1 = AllChem.GetMorganFingerprintAsBitVect(m1,2,nBits=1024)\n",
    "type(v1)"
   ]
  },
  {
   "cell_type": "code",
   "execution_count": null,
   "metadata": {
    "collapsed": true
   },
   "outputs": [],
   "source": []
  }
 ],
 "metadata": {
  "anaconda-cloud": {},
  "kernelspec": {
   "display_name": "Python [default]",
   "language": "python",
   "name": "python3"
  },
  "language_info": {
   "codemirror_mode": {
    "name": "ipython",
    "version": 3
   },
   "file_extension": ".py",
   "mimetype": "text/x-python",
   "name": "python",
   "nbconvert_exporter": "python",
   "pygments_lexer": "ipython3",
   "version": "3.5.2"
  }
 },
 "nbformat": 4,
 "nbformat_minor": 2
}
