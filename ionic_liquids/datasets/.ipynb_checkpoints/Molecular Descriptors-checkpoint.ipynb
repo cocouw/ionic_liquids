{
 "cells": [
  {
   "cell_type": "code",
   "execution_count": null,
   "metadata": {
    "collapsed": true
   },
   "outputs": [],
   "source": []
  },
  {
   "cell_type": "code",
   "execution_count": 54,
   "metadata": {
    "collapsed": false
   },
   "outputs": [],
   "source": [
    "import pandas as pd\n",
    "import matplotlib.pyplot as plt\n",
    "import numpy as np\n",
    "from rdkit import Chem\n",
    "from rdkit.Chem import AllChem\n",
    "from rdkit.Chem import Descriptors\n",
    "from sklearn.model_selection import train_test_split\n",
    "from sklearn.neural_network import MLPClassifier\n",
    "from sklearn.preprocessing import StandardScaler\n",
    "from sklearn.neural_network import MLPRegressor\n",
    "from sklearn.svm import SVR\n",
    "from sklearn.model_selection import GridSearchCV\n",
    "from sklearn.linear_model import LassoCV\n",
    "from rdkit.ML.Descriptors.MoleculeDescriptors import MolecularDescriptorCalculator as Calculator\n",
    "\n",
    "\n"
   ]
  },
  {
   "cell_type": "code",
   "execution_count": 18,
   "metadata": {
    "collapsed": false
   },
   "outputs": [
    {
     "data": {
      "text/html": [
       "<div>\n",
       "<table border=\"1\" class=\"dataframe\">\n",
       "  <thead>\n",
       "    <tr style=\"text-align: right;\">\n",
       "      <th></th>\n",
       "      <th>NUM</th>\n",
       "      <th>A</th>\n",
       "      <th>B</th>\n",
       "      <th>MOLFRC_A</th>\n",
       "      <th>T</th>\n",
       "      <th>P</th>\n",
       "      <th>ELE_COD</th>\n",
       "      <th>EC_value</th>\n",
       "      <th>EC_error</th>\n",
       "    </tr>\n",
       "  </thead>\n",
       "  <tbody>\n",
       "    <tr>\n",
       "      <th>0</th>\n",
       "      <td>1</td>\n",
       "      <td>[O-]S(=O)(=O)C.c1c[n+](cn1CCCC)C</td>\n",
       "      <td>O</td>\n",
       "      <td>0.004</td>\n",
       "      <td>298.15</td>\n",
       "      <td>101</td>\n",
       "      <td>1.166 ± 0.058</td>\n",
       "      <td>1.166</td>\n",
       "      <td>0.058</td>\n",
       "    </tr>\n",
       "    <tr>\n",
       "      <th>1</th>\n",
       "      <td>2</td>\n",
       "      <td>[O-]S(=O)(=O)C.c1c[n+](cn1CCCC)C</td>\n",
       "      <td>O</td>\n",
       "      <td>0.004</td>\n",
       "      <td>299.15</td>\n",
       "      <td>101</td>\n",
       "      <td>1.203 ± 0.06</td>\n",
       "      <td>1.203</td>\n",
       "      <td>0.06</td>\n",
       "    </tr>\n",
       "    <tr>\n",
       "      <th>2</th>\n",
       "      <td>3</td>\n",
       "      <td>[O-]S(=O)(=O)C.c1c[n+](cn1CCCC)C</td>\n",
       "      <td>O</td>\n",
       "      <td>0.004</td>\n",
       "      <td>300.15</td>\n",
       "      <td>101</td>\n",
       "      <td>1.242 ± 0.062</td>\n",
       "      <td>1.242</td>\n",
       "      <td>0.062</td>\n",
       "    </tr>\n",
       "    <tr>\n",
       "      <th>3</th>\n",
       "      <td>4</td>\n",
       "      <td>[O-]S(=O)(=O)C.c1c[n+](cn1CCCC)C</td>\n",
       "      <td>O</td>\n",
       "      <td>0.004</td>\n",
       "      <td>301.15</td>\n",
       "      <td>101</td>\n",
       "      <td>1.271 ± 0.064</td>\n",
       "      <td>1.271</td>\n",
       "      <td>0.064</td>\n",
       "    </tr>\n",
       "    <tr>\n",
       "      <th>4</th>\n",
       "      <td>5</td>\n",
       "      <td>[O-]S(=O)(=O)C.c1c[n+](cn1CCCC)C</td>\n",
       "      <td>O</td>\n",
       "      <td>0.004</td>\n",
       "      <td>302.15</td>\n",
       "      <td>101</td>\n",
       "      <td>1.289 ± 0.064</td>\n",
       "      <td>1.289</td>\n",
       "      <td>0.064</td>\n",
       "    </tr>\n",
       "  </tbody>\n",
       "</table>\n",
       "</div>"
      ],
      "text/plain": [
       "   NUM                                  A  B  MOLFRC_A       T    P  \\\n",
       "0    1   [O-]S(=O)(=O)C.c1c[n+](cn1CCCC)C  O     0.004  298.15  101   \n",
       "1    2   [O-]S(=O)(=O)C.c1c[n+](cn1CCCC)C  O     0.004  299.15  101   \n",
       "2    3   [O-]S(=O)(=O)C.c1c[n+](cn1CCCC)C  O     0.004  300.15  101   \n",
       "3    4   [O-]S(=O)(=O)C.c1c[n+](cn1CCCC)C  O     0.004  301.15  101   \n",
       "4    5   [O-]S(=O)(=O)C.c1c[n+](cn1CCCC)C  O     0.004  302.15  101   \n",
       "\n",
       "         ELE_COD EC_value EC_error  \n",
       "0  1.166 ± 0.058   1.166     0.058  \n",
       "1   1.203 ± 0.06   1.203      0.06  \n",
       "2  1.242 ± 0.062   1.242     0.062  \n",
       "3  1.271 ± 0.064   1.271     0.064  \n",
       "4  1.289 ± 0.064   1.289     0.064  "
      ]
     },
     "execution_count": 18,
     "metadata": {},
     "output_type": "execute_result"
    }
   ],
   "source": [
    "#Data Cleaning\n",
    "data = pd.read_excel(\"inputdata.xlsx\")\n",
    "data['EC_value'], data['EC_error'] = zip(*data['ELE_COD'].map(lambda x: x.split('±')))\n",
    "data.head()"
   ]
  },
  {
   "cell_type": "code",
   "execution_count": 19,
   "metadata": {
    "collapsed": false
   },
   "outputs": [
    {
     "name": "stdout",
     "output_type": "stream",
     "text": [
      "2523 19\n"
     ]
    }
   ],
   "source": [
    "#Setting up for molecular descriptors\n",
    "n = data.shape[0]\n",
    "list_of_descriptors = ['NumHeteroatoms','MolWt','NOCount','NumHDonors','RingCount','NumAromaticRings','NumSaturatedRings','NumAliphaticRings']\n",
    "calc = Calculator(list_of_descriptors)\n",
    "D = len(list_of_descriptors)\n",
    "d = len(list_of_descriptors)*2 + 3\n",
    "print(n,d)"
   ]
  },
  {
   "cell_type": "code",
   "execution_count": 20,
   "metadata": {
    "collapsed": false
   },
   "outputs": [
    {
     "name": "stdout",
     "output_type": "stream",
     "text": [
      "(2523, 19)\n"
     ]
    }
   ],
   "source": [
    "#setting up the x and y matrices\n",
    "X = []\n",
    "X = np.zeros((n,d))\n",
    "X[:,-3] = data['T']\n",
    "X[:,-2] = data['P']\n",
    "X[:,-1] = data['MOLFRC_A']\n",
    "for i in range(n):\n",
    "    A = Chem.MolFromSmiles(data['A'][i])\n",
    "    B = Chem.MolFromSmiles(data['B'][i])\n",
    "    X[i][:D]    = calc.CalcDescriptors(A)\n",
    "    X[i][D:2*D] = calc.CalcDescriptors(B)\n"
   ]
  },
  {
   "cell_type": "code",
   "execution_count": 21,
   "metadata": {
    "collapsed": false
   },
   "outputs": [],
   "source": [
    "new_data = pd.DataFrame(X,columns=['NumHeteroatoms_A','MolWt_A','NOCount_A','NumHDonors_A','RingCount_A','NumAromaticRings_A','NumSaturatedRings_A','NumAliphaticRings_A','NumHeteroatoms_B','MolWt_B','NOCount_B','NumHDonors_B','RingCount_B','NumAromaticRings_B','NumSaturatedRings_B','NumAliphaticRings_B','T','P','MOLFRC_A'])\n",
    "y = data['EC_value']\n",
    "X = StandardScaler().fit_transform(X)\n",
    "X_train, X_test, y_train, y_test = train_test_split(X, y, test_size=0.1)"
   ]
  },
  {
   "cell_type": "code",
   "execution_count": null,
   "metadata": {
    "collapsed": false
   },
   "outputs": [
    {
     "name": "stderr",
     "output_type": "stream",
     "text": [
      "/Users/SarahsAdventure/miniconda3/lib/python3.5/site-packages/sklearn/model_selection/_split.py:581: Warning: The least populated class in y has only 1 members, which is too few. The minimum number of groups for any class cannot be less than n_splits=3.\n",
      "  % (min_groups, self.n_splits)), Warning)\n"
     ]
    }
   ],
   "source": [
    "#MLPClassifier\n",
    "alphas = np.array([5,2,5,1.5,1,0.1,0.01,0.001,0.0001,0])\n",
    "mlp_class = MLPClassifier(hidden_layer_sizes=(100,), activation='relu', solver='adam', alpha=0.0001, max_iter=5000, random_state=None,learning_rate_init=0.01)\n",
    "gs = GridSearchCV(mlp_class, param_grid=dict(alpha=alphas))\n",
    "\n",
    "gs.fit(X_train,y_train)\n",
    "\n",
    "plt.figure(figsize=(4,4))\n",
    "plt.scatter(y_test.values.astype(np.float), gs.predict(X_test))\n",
    "plt.plot([0,12],[0,12],lw=4,c = 'r')\n",
    "plt.show()"
   ]
  },
  {
   "cell_type": "code",
   "execution_count": null,
   "metadata": {
    "collapsed": false
   },
   "outputs": [],
   "source": [
    "#MLPRegressor\n",
    "alphas = np.array([5,2,5,1.5,1,0.1,0.01,0.001,0.0001,0])\n",
    "mlp_regr = MLPRegressor(hidden_layer_sizes=(100,), activation='relu', solver='adam', alpha=0.0001, max_iter=5000, random_state=None,learning_rate_init=0.01)\n",
    "gs = GridSearchCV(mlp_regr, param_grid=dict(alpha=alphas))\n",
    "#mlp_regr.fit(X_train,y_train)\n",
    "gs.fit(X_train,y_train)\n",
    "\n",
    "plt.figure(figsize=(4,4))\n",
    "plt.scatter(y_test.values.astype(np.float), gs.predict(X_test))\n",
    "plt.plot([0,12],[0,12],lw=4,c = 'r')\n",
    "plt.show()\n"
   ]
  },
  {
   "cell_type": "code",
   "execution_count": null,
   "metadata": {
    "collapsed": false
   },
   "outputs": [],
   "source": [
    "#Lasso\n",
    "alphas = np.array([5,2,5,1.5,1,0.1,0.01,0.001,0.0001,0])\n",
    "lasso = Lasso(alpha=0.001, fit_intercept=True, normalize=False, precompute=False, copy_X=True, max_iter=5000, tol=0.001, positive=False, random_state=None, selection='cyclic')\n",
    "gs = GridSearchCV(lasso, param_grid=dict(alpha=alphas))\n",
    "gs.fit(X_train,y_train)\n",
    "plt.figure(figsize=(4,4))\n",
    "plt.scatter(y_test.values.astype(np.float),lasso.predict(X_test))\n",
    "plt.plot([0,12],[0,12],lw=4,c = 'r')\n",
    "plt.show()"
   ]
  },
  {
   "cell_type": "code",
   "execution_count": null,
   "metadata": {
    "collapsed": false
   },
   "outputs": [],
   "source": [
    "#SVR\n",
    "svr = SVR(kernel='rbf', degree=3, gamma='auto', coef0=0.0, tol=0.001, C=1.0, epsilon=0.01, shrinking=True, cache_size=200, verbose=False, max_iter=-1)\n",
    "svr = GridSearchCV(svr, cv=5, param_grid={\"C\": [1e0, 1e1, 1e2, 1e3],\"gamma\": np.logspace(-2, 2, 5)})\n",
    "svr.fit(X_train,y_train)\n",
    "\n",
    "plt.figure(figsize=(4,4))\n",
    "plt.scatter(y_test.values.astype(np.float), svr.predict(X_test))\n",
    "plt.plot([0,12],[0,12],lw=4,c = 'r')\n",
    "plt.show()\n"
   ]
  },
  {
   "cell_type": "code",
   "execution_count": null,
   "metadata": {
    "collapsed": true
   },
   "outputs": [],
   "source": []
  }
 ],
 "metadata": {
  "anaconda-cloud": {},
  "kernelspec": {
   "display_name": "Python [default]",
   "language": "python",
   "name": "python3"
  },
  "language_info": {
   "codemirror_mode": {
    "name": "ipython",
    "version": 3
   },
   "file_extension": ".py",
   "mimetype": "text/x-python",
   "name": "python",
   "nbconvert_exporter": "python",
   "pygments_lexer": "ipython3",
   "version": "3.5.2"
  }
 },
 "nbformat": 4,
 "nbformat_minor": 2
}
