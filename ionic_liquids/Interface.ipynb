{
 "cells": [
  {
   "cell_type": "code",
   "execution_count": 1,
   "metadata": {
    "collapsed": false
   },
   "outputs": [],
   "source": [
    "from ipywidgets import interact, interact_manual, HBox, VBox\n",
    "import ipywidgets as widgets\n",
    "from IPython.display import display, clear_output\n",
    "import numpy as np\n",
    "import pandas as pd\n",
    "import matplotlib.pyplot as plt\n",
    "from visualization import core\n",
    "import utils"
   ]
  },
  {
   "cell_type": "code",
   "execution_count": 2,
   "metadata": {
    "collapsed": false
   },
   "outputs": [],
   "source": [
    "data_file = widgets.Text(description='Dataset',value='datasets/inputdata.xlsx',disabled=False)\n",
    "model_select = widgets.Dropdown(options=core.model_types(),value='LASSO',description='Model:',disabled=False)\n",
    "test_withheld = widgets.FloatText(value=20,description='% Test',disabled=False,color='black',width='130px')\n",
    "save_file = widgets.Text(description='Save File:',placeholder='model_modelname.txt')\n",
    "save_toggle = widgets.Checkbox(description='Save?',value=True,disabled=False,)\n",
    "run_button = widgets.Button(description='Train Model')\n",
    "save_button = widgets.Button(description='Save Model')\n",
    "global obj\n",
    "\n",
    "def run_event(b):\n",
    "    clear_output()\n",
    "    obj, X, y = utils.train_model(model_select.value,data_file.value,float(test_withheld.value))\n",
    "    my_plot = core.parity_plot(y,obj.predict(X))\n",
    "    plt.show(my_plot)\n",
    "    if (not save_toggle.value):\n",
    "        gui_1.children = [HBox(items1),HBox(items2)]\n",
    "    \n",
    "def save_event(b):\n",
    "    print(\"save model!\")\n",
    "    \n",
    "run_button.on_click(run_event)\n",
    "save_button.on_click(save_event)"
   ]
  },
  {
   "cell_type": "code",
   "execution_count": 3,
   "metadata": {
    "collapsed": false
   },
   "outputs": [],
   "source": [
    "items1 = [data_file,test_withheld,model_select,run_button,save_toggle]\n",
    "items2 = [save_file,save_button]\n",
    "gui_1 = VBox(layout=widgets.Layout(width='95%',display='inline-flex'))\n",
    "gui_1.children = [HBox(items1)]\n",
    "display(gui_1)"
   ]
  },
  {
   "cell_type": "code",
   "execution_count": 4,
   "metadata": {
    "collapsed": false
   },
   "outputs": [],
   "source": [
    "model_file = widgets.Text(description='Model file',placeholder='datasets/my_model.txt')\n",
    "a_select = widgets.Dropdown(options=['water','methanol'],value='methanol',description='A: ')\n",
    "b_select = widgets.Dropdown(options=['water','methanol'],value='water',description='B: ')\n",
    "temp_slider = widgets.IntSlider(value=298,min=100,max=400,step=1,orientation='horizontal',description='Temp (K)')\n",
    "p_slider = widgets.IntSlider(value=100,min=5,max=400,step=1,orientation='horizontal',description='Pressure (kPa)')\n",
    "gui = VBox(layout=widgets.Layout(width='95%',display='inline-flex'))\n",
    "gui.children = [HBox([model_file,temp_slider,p_slider]),HBox([a_select,b_select])]\n",
    "display(gui)"
   ]
  },
  {
   "cell_type": "code",
   "execution_count": null,
   "metadata": {
    "collapsed": true
   },
   "outputs": [],
   "source": []
  }
 ],
 "metadata": {
  "anaconda-cloud": {},
  "kernelspec": {
   "display_name": "Python [conda root]",
   "language": "python",
   "name": "conda-root-py"
  },
  "language_info": {
   "codemirror_mode": {
    "name": "ipython",
    "version": 3
   },
   "file_extension": ".py",
   "mimetype": "text/x-python",
   "name": "python",
   "nbconvert_exporter": "python",
   "pygments_lexer": "ipython3",
   "version": "3.5.2"
  },
  "widgets": {
   "state": {
    "0353c18939b5499c8ca26e80e07fe439": {
     "views": [
      {
       "cell_index": 3
      }
     ]
    },
    "ef7d04edb7d240c78fee640c57873abe": {
     "views": [
      {
       "cell_index": 2
      }
     ]
    }
   },
   "version": "1.2.0"
  }
 },
 "nbformat": 4,
 "nbformat_minor": 2
}
