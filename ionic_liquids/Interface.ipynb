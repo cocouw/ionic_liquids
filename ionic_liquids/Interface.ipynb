{
 "cells": [
  {
   "cell_type": "code",
   "execution_count": 1,
   "metadata": {
    "collapsed": false
   },
   "outputs": [],
   "source": [
    "from ipywidgets import interact, interact_manual, HBox, VBox\n",
    "import ipywidgets as widgets\n",
    "from IPython.display import display, clear_output\n",
    "import numpy as np\n",
    "import pandas as pd\n",
    "import matplotlib.pyplot as plt\n",
    "from visualization import core, plots\n",
    "import utils"
   ]
  },
  {
   "cell_type": "code",
   "execution_count": 5,
   "metadata": {
    "collapsed": false
   },
   "outputs": [],
   "source": [
    "data_file = widgets.Text(description='Dataset',value='datasets/inputdata.xlsx',disabled=False)\n",
    "model_select = widgets.Dropdown(options=core.model_types(),value='LASSO',description='Model:',disabled=False)\n",
    "test_withheld = widgets.FloatText(value=20,description='% Test',disabled=False,color='black',width='130px')\n",
    "save_file = widgets.Text(description='Save Folder:',placeholder='model_folder')\n",
    "#save_toggle = widgets.Checkbox(description='Save?',value=True,disabled=False,)\n",
    "run_button = widgets.Button(description='Train Model')\n",
    "save_button = widgets.Button(description='Save Model')\n",
    "\n",
    "obj_ = [None]\n",
    "mod_data_ = [None,None]\n",
    "X_mean_ = [None]\n",
    "X_stdev_ = [None]\n",
    "def run_event(b):\n",
    "    clear_output()\n",
    "    obj, X, y, X_mean, X_stdev = utils.train_model(model_select.value,data_file.value,float(test_withheld.value))\n",
    "    obj_[0] = obj #save variable outside scope\n",
    "    mod_data_[0] = X\n",
    "    mod_data_[1] = y\n",
    "    X_mean_[0] = X_mean\n",
    "    X_stdev_[0] = X_stdev\n",
    "    my_plot = plots.parity_plot(y,obj.predict(X))\n",
    "    plt.show(my_plot)\n",
    "    if (not save_toggle.value):\n",
    "        gui_1.children = [HBox(items1),HBox(items2)]\n",
    "    else:\n",
    "        utils.save_model(obj,X_mean_,X_stdev_,X,y)\n",
    "    \n",
    "def save_event(b):\n",
    "    utils.save_model(obj_[0],X_mean_,X_stdev_,X=mod_data_[0],y=mod_data_[1],dirname=save_file.value)\n",
    "    \n",
    "run_button.on_click(run_event)\n",
    "save_button.on_click(save_event)\n",
    "items1 = [data_file,test_withheld,model_select,run_button]\n",
    "items2 = [save_file,save_button]\n",
    "gui_1 = VBox(layout=widgets.Layout(width='95%',display='inline-flex'))\n",
    "gui_1.children = [HBox(items1)]\n",
    "display(gui_1)"
   ]
  },
  {
   "cell_type": "code",
   "execution_count": 4,
   "metadata": {
    "collapsed": false
   },
   "outputs": [
    {
     "data": {
      "image/png": "[encoded data removed]",
      "text/plain": [
       "<matplotlib.figure.Figure at 0x1142d0f98>"
      ]
     },
     "metadata": {},
     "output_type": "display_data"
    }
   ],
   "source": [
    "A_list,A_smiles,B_list,B_smiles = core.read_SMILES()\n",
    "model_dir = widgets.Text(description='Model:',placeholder='model_folder')\n",
    "load_button = widgets.Button(description='Load Model')    \n",
    "a_select = widgets.Dropdown(options=A_list,description='A: ',width='500px')\n",
    "b_select = widgets.Dropdown(options=B_list,description='B: ',width='450px')\n",
    "temp_slider = widgets.IntSlider(value=298,min=100,max=400,step=1,orientation='horizontal',description='Temp (K)')\n",
    "p_slider = widgets.IntSlider(value=100,min=5,max=400,step=1,orientation='horizontal',description='Pressure (kPa)')\n",
    "m_slider = widgets.FloatSlider(value=0.50,min=0.0,max=1.0,step=0.01,orientation='horizontal',description='Mol Frac A')\n",
    "plot_p_button = widgets.Button(description='Plot vs. Pressure',width='300px')\n",
    "plot_t_button = widgets.Button(description='Plot vs. Temperature',width='300px')\n",
    "plot_m_button = widgets.Button(description='Plot vs. Mole Fraction',width='300px')\n",
    "\n",
    "mod_obj_ = [None]\n",
    "X_ = [None]\n",
    "y_ = [None]\n",
    "X_mean_ = [None]\n",
    "X_stdev_ = [None]\n",
    "def load_event(b):\n",
    "    clear_output()\n",
    "    gui2.children = [HBox([model_dir,load_button],layout=widgets.Layout(width='95%',display='inline-flex')),\n",
    "                     HBox([plot_t_button,plot_p_button,plot_m_button],\n",
    "                          layout=widgets.Layout(width='95%',display='inline-flex')),\n",
    "                     HBox([temp_slider,p_slider,m_slider]),HBox([a_select,b_select])]\n",
    "    obj,X_mean,X_stdev,X,y = utils.read_model(model_dir.value)\n",
    "    X_mean_[0] = X_mean\n",
    "    X_stdev_[0] = X_stdev\n",
    "    mod_obj_[0] = obj\n",
    "    X_[0] = X\n",
    "    y_[0] = y\n",
    "    replot('m')\n",
    "\n",
    "def p_button(b):\n",
    "    replot(x_var='p')\n",
    "def t_button(b):\n",
    "    replot(x_var='t')\n",
    "def m_button(b):\n",
    "    replot(x_var='m')\n",
    "    \n",
    "def replot(x_var='m'):\n",
    "    clear_output()\n",
    "    a_idx = A_list.index(a_select.value)\n",
    "    b_idx = B_list.index(b_select.value)\n",
    "    #print(A_smiles[a_idx])\n",
    "    #print(B_smiles[b_idx])\n",
    "    x_vals,y_vals = utils.predict_model(A_smiles[a_idx],B_smiles[b_idx],mod_obj_[0],\n",
    "                                        temp_slider.value,p_slider.value,m_slider.value,\n",
    "                                        X_mean_[0],X_stdev_[0],flag=x_var)\n",
    "    my_plot = plots.scatter_plot(x_vals,y_vals,x_var)\n",
    "    plt.show(my_plot)\n",
    "    \n",
    "gui2 = VBox(layout=widgets.Layout(width='95%',display='inline-flex'))\n",
    "gui2.children = [HBox([model_dir,load_button])]\n",
    "display(gui2)\n",
    "\n",
    "load_button.on_click(load_event)\n",
    "plot_t_button.on_click(t_button)\n",
    "plot_p_button.on_click(p_button)\n",
    "plot_m_button.on_click(m_button)"
   ]
  },
  {
   "cell_type": "code",
   "execution_count": null,
   "metadata": {
    "collapsed": true
   },
   "outputs": [],
   "source": []
  }
 ],
 "metadata": {
  "anaconda-cloud": {},
  "kernelspec": {
   "display_name": "Python [conda root]",
   "language": "python",
   "name": "conda-root-py"
  },
  "language_info": {
   "codemirror_mode": {
    "name": "ipython",
    "version": 3
   },
   "file_extension": ".py",
   "mimetype": "text/x-python",
   "name": "python",
   "nbconvert_exporter": "python",
   "pygments_lexer": "ipython3",
   "version": "3.5.2"
  },
  "widgets": {
   "state": {
    "9b26a32f7be94cabae8e3717a4abc0e5": {
     "views": [
      {
       "cell_index": 2
      }
     ]
    },
    "a2c6feb85c1c4a62a34fcffb1fb25d27": {
     "views": [
      {
       "cell_index": 1
      }
     ]
    }
   },
   "version": "1.2.0"
  }
 },
 "nbformat": 4,
 "nbformat_minor": 2
}
