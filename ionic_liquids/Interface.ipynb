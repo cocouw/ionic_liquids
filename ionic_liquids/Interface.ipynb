{
 "cells": [
  {
   "cell_type": "code",
   "execution_count": 4,
   "metadata": {
    "collapsed": true
   },
   "outputs": [],
   "source": [
    "from ipywidgets import interact, interact_manual, HBox, VBox\n",
    "import ipywidgets as widgets\n",
    "from IPython.display import display\n",
    "import numpy as np\n",
    "import pandas as pd\n",
    "import matplotlib.pyplot as plt\n",
    "from visualization import core"
   ]
  },
  {
   "cell_type": "code",
   "execution_count": 43,
   "metadata": {
    "collapsed": false
   },
   "outputs": [],
   "source": [
    "data_file = widgets.Text(description='Dataset',placeholder='datasets/file.csv')\n",
    "model_select = widgets.Dropdown(options=core.model_types(),value='LASSO',description='Model:',disabled=False)\n",
    "test_withheld = widgets.FloatText(value=20,description='% Test',disabled=False,color='black',width='130px')\n",
    "run_button = widgets.Button(description='Train Model')\n",
    "\n",
    "def run_event(b):\n",
    "    core.train_model(model_select.value)\n",
    "    \n",
    "run_button.on_click(run_event)"
   ]
  },
  {
   "cell_type": "code",
   "execution_count": 44,
   "metadata": {
    "collapsed": false
   },
   "outputs": [
    {
     "name": "stdout",
     "output_type": "stream",
     "text": [
      "training model is  LASSO\n",
      "training model is  MLP Regressor\n",
      "training model is  SVR\n"
     ]
    }
   ],
   "source": [
    "items = [data_file,test_withheld,model_select,run_button]     \n",
    "output = HBox(layout=widgets.Layout(width='95%',display='inline-flex'))\n",
    "output.children = items\n",
    "display(output)"
   ]
  },
  {
   "cell_type": "code",
   "execution_count": 52,
   "metadata": {
    "collapsed": false
   },
   "outputs": [],
   "source": [
    "model_file = widgets.Text(description='Model file',placeholder='datasets/my_model.txt')\n",
    "a_select = widgets.Dropdown(options=['water','methanol'],value='methanol',description='A: ')\n",
    "b_select = widgets.Dropdown(options=['water','methanol'],value='water',description='B: ')\n",
    "temp_slider = widgets.IntSlider(value=298,min=100,max=400,step=1,orientation='horizontal',description='Temp (K)')\n",
    "p_slider = widgets.IntSlider(value=100,min=5,max=400,step=1,orientation='horizontal',description='Pressure (kPa)')\n",
    "gui = VBox(layout=widgets.Layout(width='95%',display='inline-flex'))\n",
    "gui.children = [HBox([model_file,temp_slider,p_slider]),HBox([a_select,b_select])]\n",
    "display(gui)"
   ]
  },
  {
   "cell_type": "code",
   "execution_count": null,
   "metadata": {
    "collapsed": true
   },
   "outputs": [],
   "source": []
  }
 ],
 "metadata": {
  "anaconda-cloud": {},
  "kernelspec": {
   "display_name": "Python [conda root]",
   "language": "python",
   "name": "conda-root-py"
  },
  "language_info": {
   "codemirror_mode": {
    "name": "ipython",
    "version": 3
   },
   "file_extension": ".py",
   "mimetype": "text/x-python",
   "name": "python",
   "nbconvert_exporter": "python",
   "pygments_lexer": "ipython3",
   "version": "3.5.2"
  },
  "widgets": {
   "state": {
    "6769fe80259a481499cd8515beccaa89": {
     "views": [
      {
       "cell_index": 2
      }
     ]
    },
    "dccf54f91af84a8fa3bb78e748625088": {
     "views": [
      {
       "cell_index": 4
      }
     ]
    }
   },
   "version": "1.2.0"
  }
 },
 "nbformat": 4,
 "nbformat_minor": 2
}
