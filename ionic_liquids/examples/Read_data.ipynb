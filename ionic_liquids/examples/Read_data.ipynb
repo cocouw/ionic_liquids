{
 "cells": [
  {
   "cell_type": "markdown",
   "metadata": {},
   "source": [
    "## Cleaning the sample data "
   ]
  },
  {
   "cell_type": "markdown",
   "metadata": {},
   "source": [
    "In this python notebook, I will  utilize  \"inputdata.xlsx\" as our dataset. "
   ]
  },
  {
   "cell_type": "code",
   "execution_count": 2,
   "metadata": {
    "collapsed": true
   },
   "outputs": [],
   "source": [
    "import numpy as np\n",
    "import pandas as pd"
   ]
  },
  {
   "cell_type": "code",
   "execution_count": null,
   "metadata": {
    "collapsed": true
   },
   "outputs": [],
   "source": [
    "def read_data(filename):\n",
    "    \"\"\"\n",
    "    Reads data in from given file to Pandas DataFrame\n",
    "\n",
    "    Inputs\n",
    "    -------\n",
    "    filename : string of path to file\n",
    "\n",
    "    Returns\n",
    "    ------\n",
    "    df : Pandas DataFrame\n",
    "\n",
    "    \"\"\"\n",
    "    cols = filename.split('.')\n",
    "    name = cols[0]\n",
    "    filetype = cols[1]\n",
    "    if (filetype == 'csv'):\n",
    "        df = pd.read_csv(filename)\n",
    "    elif (filetype in ['xls', 'xlsx']):\n",
    "        df = pd.read_excel(filename)\n",
    "    else:\n",
    "        raise ValueError('Filetype not supported')\n",
    "\n",
    "    # clean the data if necessary\n",
    "    df['EC_value'], df['EC_error'] = zip(*df['ELE_COD'].map(lambda x: x.split('±')))\n",
    "    df = df.drop('EC_error', 1)\n",
    "    df = df.drop('ELE_COD', 1)\n",
    "\n",
    "    return df"
   ]
  },
  {
   "cell_type": "markdown",
   "metadata": {},
   "source": [
    "After importing the neccesary libraries, I will utilize pandas to read the excel sheet. _Note that you do not have to use an excel sheet_"
   ]
  },
  {
   "cell_type": "code",
   "execution_count": 5,
   "metadata": {
    "collapsed": false
   },
   "outputs": [],
   "source": [
    "data = pd.read_excel(\"../datasets/inputdata.xlsx\")"
   ]
  },
  {
   "cell_type": "markdown",
   "metadata": {},
   "source": [
    "In our dataset,  the  electronic conductivity column, 'ELE_COD', is  separated by a '±', which needs to be parsed. "
   ]
  },
  {
   "cell_type": "code",
   "execution_count": 6,
   "metadata": {
    "collapsed": false
   },
   "outputs": [],
   "source": []
  },
  {
   "cell_type": "markdown",
   "metadata": {},
   "source": [
    "Just to make sure we know what the data looks like we look at the first couple lines using the command head(). "
   ]
  },
  {
   "cell_type": "code",
   "execution_count": null,
   "metadata": {
    "collapsed": true
   },
   "outputs": [],
   "source": []
  }
 ],
 "metadata": {
  "anaconda-cloud": {},
  "kernelspec": {
   "display_name": "Python [default]",
   "language": "python",
   "name": "python3"
  },
  "language_info": {
   "codemirror_mode": {
    "name": "ipython",
    "version": 3
   },
   "file_extension": ".py",
   "mimetype": "text/x-python",
   "name": "python",
   "nbconvert_exporter": "python",
   "pygments_lexer": "ipython3",
   "version": "3.5.2"
  }
 },
 "nbformat": 4,
 "nbformat_minor": 2
}
