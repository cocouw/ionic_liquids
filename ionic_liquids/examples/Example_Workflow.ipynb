{
 "cells": [
  {
   "cell_type": "markdown",
   "metadata": {},
   "source": [
    "# Example of the Workflow"
   ]
  },
  {
   "cell_type": "markdown",
   "metadata": {},
   "source": [
    "This is an example of main.py in the ionic_liquids folder.  I will first have to import the libraries that are necessary to run this program, including train_test_split that allows for splitting datasets into training sets and test sets necessary to run machine learning. "
   ]
  },
  {
   "cell_type": "code",
   "execution_count": 1,
   "metadata": {
    "collapsed": false
   },
   "outputs": [],
   "source": [
    "import numpy as np\n",
    "import pandas as pd\n",
    "import matplotlib.pyplot as plt\n",
    "from sklearn.model_selection import train_test_split\n",
    "from rdkit import Chem\n",
    "from rdkit.Chem import AllChem, Descriptors\n",
    "from rdkit.ML.Descriptors.MoleculeDescriptors import MolecularDescriptorCalculator as Calculator\n",
    "import pandas as pd\n",
    "import numpy as np\n",
    "from sklearn.model_selection import GridSearchCV\n",
    "from sklearn.linear_model import Lasso\n",
    "from sklearn.svm import SVR\n",
    "from sklearn.neural_network import MLPRegressor\n",
    "from numpy import linalg as LA"
   ]
  },
  {
   "cell_type": "markdown",
   "metadata": {},
   "source": [
    "For this example, I will utilize the following filename, machine learning model, and  directory name to save the model. "
   ]
  },
  {
   "cell_type": "code",
   "execution_count": 2,
   "metadata": {
    "collapsed": true
   },
   "outputs": [],
   "source": [
    "FILENAME = 'inputdata.xlsx'\n",
    "MODEL = 'mlp_regressor'\n",
    "DIRNAME = 'my_test'"
   ]
  },
  {
   "cell_type": "markdown",
   "metadata": {},
   "source": [
    "The following step prepares the data to be read in the machine_learning methods. First, we need to get the data into a readable form and parse, if necessary. In our case, we need to parse the values and errors in the last column of the FILENAME."
   ]
  },
  {
   "cell_type": "code",
   "execution_count": 3,
   "metadata": {
    "collapsed": false
   },
   "outputs": [],
   "source": [
    "def read_data(filename):\n",
    "    \"\"\"\n",
    "    Reads data in from given file to Pandas DataFrame\n",
    "\n",
    "    Inputs\n",
    "    -------\n",
    "    filename : string of path to file\n",
    "\n",
    "    Returns\n",
    "    ------\n",
    "    df : Pandas DataFrame\n",
    "\n",
    "    \"\"\"\n",
    "    cols = filename.split('.')\n",
    "    name = cols[0]\n",
    "    filetype = cols[1]\n",
    "    if (filetype == 'csv'):\n",
    "        df = pd.read_csv(filename)\n",
    "    elif (filetype in ['xls', 'xlsx']):\n",
    "        df = pd.read_excel(filename)\n",
    "    else:\n",
    "        raise ValueError('Filetype not supported')\n",
    "\n",
    "    # clean the data if necessary\n",
    "    df['EC_value'], df['EC_error'] = zip(*df['ELE_COD'].map(lambda x: x.split('±')))\n",
    "    y_error = np.copy(df['EC_error'])\n",
    "    df = df.drop('EC_error', 1)\n",
    "    df = df.drop('ELE_COD', 1)\n",
    "\n",
    "    return df, y_error\n",
    "\n",
    "df, y_error = read_data(FILENAME)\n"
   ]
  },
  {
   "cell_type": "markdown",
   "metadata": {},
   "source": [
    "Secondly, we will create a X matrix and y vector that are send to the molecular descriptor function in utils.py. The X matrix will hold all of our inputs for the machine learning whereas y vector will be the actual electronic conductivity values. "
   ]
  },
  {
   "cell_type": "code",
   "execution_count": 5,
   "metadata": {
    "collapsed": false
   },
   "outputs": [
    {
     "name": "stderr",
     "output_type": "stream",
     "text": [
      "/Users/SarahsAdventure/miniconda3/lib/python3.5/site-packages/ipykernel/__main__.py:55: FutureWarning: reshape is deprecated and will raise in a subsequent release. Please use .values.reshape(...) instead\n"
     ]
    }
   ],
   "source": [
    "def molecular_descriptors(data):\n",
    "    \"\"\"\n",
    "    Use RDKit to prepare the molecular descriptor\n",
    "\n",
    "    Inputs\n",
    "    ------\n",
    "    data: dataframe, cleaned csv data\n",
    "\n",
    "    Returns\n",
    "    ------\n",
    "    prenorm_X: normalized input features\n",
    "    Y: experimental electrical conductivity\n",
    "\n",
    "    \"\"\"\n",
    "    \n",
    "    n = data.shape[0]\n",
    "    # Choose which molecular descriptor we want\n",
    "    list_of_descriptors = ['NumHeteroatoms', 'ExactMolWt',\n",
    "        'NOCount', 'NumHDonors',\n",
    "        'RingCount', 'NumAromaticRings', \n",
    "        'NumSaturatedRings', 'NumAliphaticRings']\n",
    "    # Get the molecular descriptors and their dimension\n",
    "    calc = Calculator(list_of_descriptors)\n",
    "    D = len(list_of_descriptors)\n",
    "    d = len(list_of_descriptors)*2 + 4\n",
    "\n",
    "    Y = data['EC_value']\n",
    "    X = np.zeros((n, d))\n",
    "    X[:, -3] = data['T']\n",
    "    X[:, -2] = data['P']\n",
    "    X[:, -1] = data['MOLFRC_A']\n",
    "    for i in range(n):\n",
    "        A = Chem.MolFromSmiles(data['A'][i])\n",
    "        B = Chem.MolFromSmiles(data['B'][i])\n",
    "        X[i][:D]    = calc.CalcDescriptors(A)\n",
    "        X[i][D:2*D] = calc.CalcDescriptors(B)\n",
    "\n",
    "    prenorm_X = pd.DataFrame(X,columns=['NUM', 'NumHeteroatoms_A', \n",
    "        'MolWt_A', 'NOCount_A','NumHDonors_A', \n",
    "        'RingCount_A', 'NumAromaticRings_A', \n",
    "        'NumSaturatedRings_A',\n",
    "        'NumAliphaticRings_A', \n",
    "        'NumHeteroatoms_B', 'MolWt_B', \n",
    "        'NOCount_B', 'NumHDonors_B',\n",
    "        'RingCount_B', 'NumAromaticRings_B', \n",
    "        'NumSaturatedRings_B', \n",
    "        'NumAliphaticRings_B',\n",
    "        'T', 'P', 'MOLFRC_A'])\n",
    "\n",
    "    prenorm_X = prenorm_X.drop('NumAliphaticRings_A', 1)\n",
    "    prenorm_X = prenorm_X.drop('NumAliphaticRings_B', 1)\n",
    "\n",
    "    return prenorm_X, Y \n",
    "X, y = molecular_descriptors(df)\n",
    "y = df['EC_value'].reshape((X.shape[0],1))"
   ]
  },
  {
   "cell_type": "markdown",
   "metadata": {},
   "source": [
    "We can prepare our testing and training data set for the machine learning calling using train_test_split, a function called from sklearn module of python. "
   ]
  },
  {
   "cell_type": "code",
   "execution_count": 6,
   "metadata": {
    "collapsed": false
   },
   "outputs": [],
   "source": [
    "X_train,X_test,y_train,y_test,e_train,e_test = train_test_split(X,y,y_error,test_size=0.1)\n",
    "#X_train,X_test,Y_train,Y_test,e_train,e_test = train_test_split(X,y,y_error, test_size=0.05)"
   ]
  },
  {
   "cell_type": "markdown",
   "metadata": {},
   "source": [
    "Followingly, the program will normalize the testing data using the training data set. This will also provide us with the mean value and standard deviation of X. "
   ]
  },
  {
   "cell_type": "code",
   "execution_count": 7,
   "metadata": {
    "collapsed": false
   },
   "outputs": [],
   "source": [
    "def normalization(data, means=None, stdevs=None):\n",
    "    \"\"\"\n",
    "    Normalizes the data using the means and standard\n",
    "    deviations given, calculating them otherwise.\n",
    "    Returns the means and standard deviations of columns.\n",
    "\n",
    "    Inputs\n",
    "    ------\n",
    "    data : Pandas DataFrame\n",
    "    means : optional numpy argument of column means\n",
    "    stdevs : optional numpy argument of column st. devs\n",
    "\n",
    "    Returns\n",
    "    ------\n",
    "    normed : the normalized DataFrame\n",
    "    means : the numpy row vector of column means\n",
    "    stdevs : the numpy row vector of column st. devs\n",
    "\n",
    "    \"\"\"\n",
    "    cols = data.columns\n",
    "    data = data.values\n",
    "\n",
    "    if (means is None) or (stdevs is None):\n",
    "        means = np.mean(data, axis=0)\n",
    "        stdevs = np.std(data, axis=0, ddof=1)\n",
    "    else:\n",
    "        means = np.array(means)\n",
    "        stdevs = np.array(stdevs)\n",
    "\n",
    "    # handle special case of one row\n",
    "    if (len(data.shape) == 1) or (data.shape[0] == 1):\n",
    "        for i in range(len(data)):\n",
    "            data[i] = (data[i] - means[i]) / stdevs[i]\n",
    "    else: \n",
    "        for i in range(data.shape[1]):\n",
    "            data[:,i] = (data[:,i] - means[i]*np.ones(data.shape[0])) / stdevs[i]\n",
    "\n",
    "    normed = pd.DataFrame(data, columns=cols)\n",
    "\n",
    "    return normed, means, stdevs\n",
    "\n",
    "X_train, X_mean, X_std = normalization(X_train)"
   ]
  },
  {
   "cell_type": "markdown",
   "metadata": {},
   "source": [
    "We coded three models into our program:  MLP_regressor, LASSO, and SVR.  Each of these models are  well documented in  sklearn, a library in  python.  *In the actual program, you can use all three models, but for the purpose of this example, we chose mlp_regressor.* The ValueError will only raise if you do not use one of the three models. A good example is if you were to change the MODEL used to 'MLP_classifier'.  "
   ]
  },
  {
   "cell_type": "code",
   "execution_count": 16,
   "metadata": {
    "collapsed": true
   },
   "outputs": [],
   "source": [
    "def do_svr(X,y):\n",
    "    y.ravel()\n",
    "    \"\"\"\n",
    "    Call the Support Vector Regressor, \n",
    "    Fit the weight on the training set\n",
    "    \n",
    "    Input\n",
    "    ------\n",
    "    X: dataframe, n*m, n is number of data points, \n",
    "        m is number of features\n",
    "    y: experimental electrical conductivity\n",
    "    \n",
    "    Returns\n",
    "    ------\n",
    "    svr: objective, the regressor objective \n",
    "    \"\"\"\n",
    "    \n",
    "    svr = SVR(kernel='rbf', degree=3, gamma='auto', coef0=0.0, tol=0.001,\n",
    "        C=1.0, epsilon=0.01, shrinking=True, cache_size=200, verbose=False, max_iter=-1)\n",
    "    svr = GridSearchCV(svr, cv=5, param_grid={\"C\": [1e0, 1e1, 1e2, 1e3],\"gamma\": np.logspace(-2, 2, 5)})\n",
    "    svr.fit(X,y)\n",
    "    return svr\n",
    "\n",
    "def do_MLP_regressor(X,y):\n",
    "    y.ravel()\n",
    "    \"\"\"\n",
    "    Call the MLP Regressor, \n",
    "    Fit the weight on the training set\n",
    "    \n",
    "    Input\n",
    "    ------\n",
    "    X: dataframe, n*m, n is number of data points, \n",
    "        m is number of features\n",
    "    y: experimental electrical conductivity\n",
    "    \n",
    "    Returns\n",
    "    ------\n",
    "    mlp_regr : the MLP object with the best parameters\n",
    "    \"\"\"    \n",
    "    alphas = np.array([5,2,5,1.5,1,0.1,0.01,0.001,0.0001,0])\n",
    "    mlp_regr = MLPRegressor(hidden_layer_sizes=(100,), activation='tanh',\n",
    "        solver='sgd', alpha=0.0001, max_iter=5000, random_state=None,learning_rate_init=0.01)\n",
    "    grid_search = GridSearchCV(mlp_regr, param_grid=dict(alpha=alphas))\n",
    "    grid_search.fit(X,y)\n",
    "    \n",
    "    #print(grid_search.best_params_)\n",
    "    mlp_regr.alpha_ = grid_search.best_params_['alpha']\n",
    "    mlp_regr.fit(X,y)\n",
    "\n",
    "    return mlp_regr\n",
    "\n",
    "def do_lasso(X,y): \n",
    "    y.ravel()\n",
    "    \"\"\"\n",
    "    Runs a lasso grid search on the input data\n",
    "    \n",
    "    Inputs\n",
    "    ------\n",
    "    X: dataframe, n*m, n is number of data points, \n",
    "        m is number of features\n",
    "    y: experimental electrical conductivity\n",
    "    \n",
    "    Returns\n",
    "    ------\n",
    "    lasso : sklearn object with the model information \n",
    "    \"\"\"\n",
    "    \n",
    "    alphas = np.array([5,4,3,2,1,0.1,0.01,0.001,0.0001])\n",
    "    lasso = Lasso(alpha=0.001, fit_intercept=True, normalize=False, precompute=False,\n",
    "        copy_X=True, max_iter=10000, tol=0.001, positive=False, random_state=None, selection='cyclic')\n",
    "    gs = GridSearchCV(lasso, param_grid=dict(alpha=alphas))\n",
    "    gs.fit(X,y)\n",
    "    \n",
    "    lasso.alpha_ = gs.best_params_['alpha']\n",
    "\n",
    "    lasso.fit(X,y)\n",
    "        \n",
    "    return lasso\n"
   ]
  },
  {
   "cell_type": "code",
   "execution_count": 17,
   "metadata": {
    "collapsed": false
   },
   "outputs": [
    {
     "name": "stderr",
     "output_type": "stream",
     "text": [
      "/Users/SarahsAdventure/miniconda3/lib/python3.5/site-packages/sklearn/neural_network/multilayer_perceptron.py:1266: DataConversionWarning: A column-vector y was passed when a 1d array was expected. Please change the shape of y to (n_samples, ), for example using ravel().\n",
      "  y = column_or_1d(y, warn=True)\n",
      "/Users/SarahsAdventure/miniconda3/lib/python3.5/site-packages/sklearn/neural_network/multilayer_perceptron.py:1266: DataConversionWarning: A column-vector y was passed when a 1d array was expected. Please change the shape of y to (n_samples, ), for example using ravel().\n",
      "  y = column_or_1d(y, warn=True)\n",
      "/Users/SarahsAdventure/miniconda3/lib/python3.5/site-packages/sklearn/neural_network/multilayer_perceptron.py:1266: DataConversionWarning: A column-vector y was passed when a 1d array was expected. Please change the shape of y to (n_samples, ), for example using ravel().\n",
      "  y = column_or_1d(y, warn=True)\n",
      "/Users/SarahsAdventure/miniconda3/lib/python3.5/site-packages/sklearn/neural_network/multilayer_perceptron.py:1266: DataConversionWarning: A column-vector y was passed when a 1d array was expected. Please change the shape of y to (n_samples, ), for example using ravel().\n",
      "  y = column_or_1d(y, warn=True)\n",
      "/Users/SarahsAdventure/miniconda3/lib/python3.5/site-packages/sklearn/neural_network/multilayer_perceptron.py:1266: DataConversionWarning: A column-vector y was passed when a 1d array was expected. Please change the shape of y to (n_samples, ), for example using ravel().\n",
      "  y = column_or_1d(y, warn=True)\n",
      "/Users/SarahsAdventure/miniconda3/lib/python3.5/site-packages/sklearn/neural_network/multilayer_perceptron.py:1266: DataConversionWarning: A column-vector y was passed when a 1d array was expected. Please change the shape of y to (n_samples, ), for example using ravel().\n",
      "  y = column_or_1d(y, warn=True)\n",
      "/Users/SarahsAdventure/miniconda3/lib/python3.5/site-packages/sklearn/neural_network/multilayer_perceptron.py:1266: DataConversionWarning: A column-vector y was passed when a 1d array was expected. Please change the shape of y to (n_samples, ), for example using ravel().\n",
      "  y = column_or_1d(y, warn=True)\n",
      "/Users/SarahsAdventure/miniconda3/lib/python3.5/site-packages/sklearn/neural_network/multilayer_perceptron.py:1266: DataConversionWarning: A column-vector y was passed when a 1d array was expected. Please change the shape of y to (n_samples, ), for example using ravel().\n",
      "  y = column_or_1d(y, warn=True)\n",
      "/Users/SarahsAdventure/miniconda3/lib/python3.5/site-packages/sklearn/neural_network/multilayer_perceptron.py:1266: DataConversionWarning: A column-vector y was passed when a 1d array was expected. Please change the shape of y to (n_samples, ), for example using ravel().\n",
      "  y = column_or_1d(y, warn=True)\n",
      "/Users/SarahsAdventure/miniconda3/lib/python3.5/site-packages/sklearn/neural_network/multilayer_perceptron.py:1266: DataConversionWarning: A column-vector y was passed when a 1d array was expected. Please change the shape of y to (n_samples, ), for example using ravel().\n",
      "  y = column_or_1d(y, warn=True)\n",
      "/Users/SarahsAdventure/miniconda3/lib/python3.5/site-packages/sklearn/neural_network/multilayer_perceptron.py:1266: DataConversionWarning: A column-vector y was passed when a 1d array was expected. Please change the shape of y to (n_samples, ), for example using ravel().\n",
      "  y = column_or_1d(y, warn=True)\n",
      "/Users/SarahsAdventure/miniconda3/lib/python3.5/site-packages/sklearn/neural_network/multilayer_perceptron.py:1266: DataConversionWarning: A column-vector y was passed when a 1d array was expected. Please change the shape of y to (n_samples, ), for example using ravel().\n",
      "  y = column_or_1d(y, warn=True)\n",
      "/Users/SarahsAdventure/miniconda3/lib/python3.5/site-packages/sklearn/neural_network/multilayer_perceptron.py:1266: DataConversionWarning: A column-vector y was passed when a 1d array was expected. Please change the shape of y to (n_samples, ), for example using ravel().\n",
      "  y = column_or_1d(y, warn=True)\n",
      "/Users/SarahsAdventure/miniconda3/lib/python3.5/site-packages/sklearn/neural_network/multilayer_perceptron.py:1266: DataConversionWarning: A column-vector y was passed when a 1d array was expected. Please change the shape of y to (n_samples, ), for example using ravel().\n",
      "  y = column_or_1d(y, warn=True)\n",
      "/Users/SarahsAdventure/miniconda3/lib/python3.5/site-packages/sklearn/neural_network/multilayer_perceptron.py:1266: DataConversionWarning: A column-vector y was passed when a 1d array was expected. Please change the shape of y to (n_samples, ), for example using ravel().\n",
      "  y = column_or_1d(y, warn=True)\n",
      "/Users/SarahsAdventure/miniconda3/lib/python3.5/site-packages/sklearn/neural_network/multilayer_perceptron.py:1266: DataConversionWarning: A column-vector y was passed when a 1d array was expected. Please change the shape of y to (n_samples, ), for example using ravel().\n",
      "  y = column_or_1d(y, warn=True)\n",
      "/Users/SarahsAdventure/miniconda3/lib/python3.5/site-packages/sklearn/neural_network/multilayer_perceptron.py:1266: DataConversionWarning: A column-vector y was passed when a 1d array was expected. Please change the shape of y to (n_samples, ), for example using ravel().\n",
      "  y = column_or_1d(y, warn=True)\n",
      "/Users/SarahsAdventure/miniconda3/lib/python3.5/site-packages/sklearn/neural_network/multilayer_perceptron.py:1266: DataConversionWarning: A column-vector y was passed when a 1d array was expected. Please change the shape of y to (n_samples, ), for example using ravel().\n",
      "  y = column_or_1d(y, warn=True)\n",
      "/Users/SarahsAdventure/miniconda3/lib/python3.5/site-packages/sklearn/neural_network/multilayer_perceptron.py:1266: DataConversionWarning: A column-vector y was passed when a 1d array was expected. Please change the shape of y to (n_samples, ), for example using ravel().\n",
      "  y = column_or_1d(y, warn=True)\n",
      "/Users/SarahsAdventure/miniconda3/lib/python3.5/site-packages/sklearn/neural_network/multilayer_perceptron.py:1266: DataConversionWarning: A column-vector y was passed when a 1d array was expected. Please change the shape of y to (n_samples, ), for example using ravel().\n",
      "  y = column_or_1d(y, warn=True)\n",
      "/Users/SarahsAdventure/miniconda3/lib/python3.5/site-packages/sklearn/neural_network/multilayer_perceptron.py:1266: DataConversionWarning: A column-vector y was passed when a 1d array was expected. Please change the shape of y to (n_samples, ), for example using ravel().\n",
      "  y = column_or_1d(y, warn=True)\n",
      "/Users/SarahsAdventure/miniconda3/lib/python3.5/site-packages/sklearn/neural_network/multilayer_perceptron.py:1266: DataConversionWarning: A column-vector y was passed when a 1d array was expected. Please change the shape of y to (n_samples, ), for example using ravel().\n",
      "  y = column_or_1d(y, warn=True)\n",
      "/Users/SarahsAdventure/miniconda3/lib/python3.5/site-packages/sklearn/neural_network/multilayer_perceptron.py:1266: DataConversionWarning: A column-vector y was passed when a 1d array was expected. Please change the shape of y to (n_samples, ), for example using ravel().\n",
      "  y = column_or_1d(y, warn=True)\n",
      "/Users/SarahsAdventure/miniconda3/lib/python3.5/site-packages/sklearn/neural_network/multilayer_perceptron.py:1266: DataConversionWarning: A column-vector y was passed when a 1d array was expected. Please change the shape of y to (n_samples, ), for example using ravel().\n",
      "  y = column_or_1d(y, warn=True)\n",
      "/Users/SarahsAdventure/miniconda3/lib/python3.5/site-packages/sklearn/neural_network/multilayer_perceptron.py:1266: DataConversionWarning: A column-vector y was passed when a 1d array was expected. Please change the shape of y to (n_samples, ), for example using ravel().\n",
      "  y = column_or_1d(y, warn=True)\n",
      "/Users/SarahsAdventure/miniconda3/lib/python3.5/site-packages/sklearn/neural_network/multilayer_perceptron.py:1266: DataConversionWarning: A column-vector y was passed when a 1d array was expected. Please change the shape of y to (n_samples, ), for example using ravel().\n",
      "  y = column_or_1d(y, warn=True)\n",
      "/Users/SarahsAdventure/miniconda3/lib/python3.5/site-packages/sklearn/neural_network/multilayer_perceptron.py:1266: DataConversionWarning: A column-vector y was passed when a 1d array was expected. Please change the shape of y to (n_samples, ), for example using ravel().\n",
      "  y = column_or_1d(y, warn=True)\n",
      "/Users/SarahsAdventure/miniconda3/lib/python3.5/site-packages/sklearn/neural_network/multilayer_perceptron.py:1266: DataConversionWarning: A column-vector y was passed when a 1d array was expected. Please change the shape of y to (n_samples, ), for example using ravel().\n",
      "  y = column_or_1d(y, warn=True)\n",
      "/Users/SarahsAdventure/miniconda3/lib/python3.5/site-packages/sklearn/neural_network/multilayer_perceptron.py:1266: DataConversionWarning: A column-vector y was passed when a 1d array was expected. Please change the shape of y to (n_samples, ), for example using ravel().\n",
      "  y = column_or_1d(y, warn=True)\n",
      "/Users/SarahsAdventure/miniconda3/lib/python3.5/site-packages/sklearn/neural_network/multilayer_perceptron.py:1266: DataConversionWarning: A column-vector y was passed when a 1d array was expected. Please change the shape of y to (n_samples, ), for example using ravel().\n",
      "  y = column_or_1d(y, warn=True)\n",
      "/Users/SarahsAdventure/miniconda3/lib/python3.5/site-packages/sklearn/neural_network/multilayer_perceptron.py:1266: DataConversionWarning: A column-vector y was passed when a 1d array was expected. Please change the shape of y to (n_samples, ), for example using ravel().\n",
      "  y = column_or_1d(y, warn=True)\n"
     ]
    }
   ],
   "source": [
    "if (MODEL.lower() == 'mlp_regressor'):\n",
    "    obj = do_MLP_regressor(X_train, y_train)\n",
    "elif (MODEL.lower() == 'lasso'):\n",
    "    obj = do_lasso(X_train, y_train)\n",
    "elif (MODEL.lower() == 'svr'):\n",
    "    obj = do_svr(X_train, y_train)\n",
    "else:\n",
    "    raise ValueError(\"Model not supported\")"
   ]
  },
  {
   "cell_type": "markdown",
   "metadata": {},
   "source": [
    "After the method is called , it will be saved to an objective.  This objective is saved along with the mean and standard deviation and the training set in the directory, named  DIRNAME. This step is not as important for the workflow but vital to the success of the graphical user interface. "
   ]
  },
  {
   "cell_type": "markdown",
   "metadata": {},
   "source": [
    "Lastly, the experimental values will be scatter plotted against the predicted values. We will use the parity_plot to do so. plt.show()  function will just allow the plot to show up. "
   ]
  },
  {
   "cell_type": "code",
   "execution_count": 18,
   "metadata": {
    "collapsed": false,
    "scrolled": true
   },
   "outputs": [
    {
     "data": {
      "image/png": "[encoded data removed]",
      "text/plain": [
       "<matplotlib.figure.Figure at 0x1113fc8d0>"
      ]
     },
     "metadata": {},
     "output_type": "display_data"
    }
   ],
   "source": [
    "FIG_SIZE = (4,4)\n",
    "\n",
    "def parity_plot(y_act, y_pred):\n",
    "    \"\"\"\n",
    "    Creates a parity plot\n",
    "\n",
    "    Input\n",
    "    -----\n",
    "    y_pred : predicted values from the model\n",
    "    y_act : 'true' (actual) values\n",
    "\n",
    "    Output\n",
    "    ------\n",
    "    fig : matplotlib figure\n",
    "\n",
    "    \"\"\"\n",
    "\n",
    "    fig = plt.figure(figsize=FIG_SIZE)\n",
    "    plt.scatter(list(y_act), list(y_pred))\n",
    "    plt.plot([y_act.min(), y_act.max()], [y_act.min(), y_act.max()],\n",
    "             lw=4, color='r')\n",
    "    plt.xlabel('Actual')\n",
    "    plt.ylabel('Predicted')\n",
    "\n",
    "    return fig\n",
    "\n",
    "my_plot = parity_plot(y_train, obj.predict(X_train))\n",
    "plt.show(my_plot)"
   ]
  },
  {
   "cell_type": "markdown",
   "metadata": {},
   "source": []
  },
  {
   "cell_type": "code",
   "execution_count": 19,
   "metadata": {
    "collapsed": false
   },
   "outputs": [
    {
     "name": "stdout",
     "output_type": "stream",
     "text": [
      "(2270, 18) (253, 18)\n",
      "(2270, 1) (253, 1)\n",
      "(2270,) (253,)\n"
     ]
    }
   ],
   "source": [
    "#X = np.genfromtxt('../datasets/Selective_descriptors_X')\n",
    "#Y = np.genfromtxt('../datasets/Selective_descriptors_Y').reshape((X.shape[0],1))\n",
    "#Y_error = np.genfromtxt('../datasets/Selective_descriptors_error')\n",
    "\n",
    "#X = StandardScaler().fit_transform(X)\n",
    "#X_train,X_test,Y_train,Y_test,e_train,e_test = train_test_split(X,Y,Y_error,test_size=0.10)\n",
    "print(X_train.shape,X_test.shape)\n",
    "print(y_train.shape,y_test.shape)\n",
    "print(e_train.shape,e_test.shape)"
   ]
  },
  {
   "cell_type": "code",
   "execution_count": 76,
   "metadata": {
    "collapsed": false
   },
   "outputs": [
    {
     "name": "stdout",
     "output_type": "stream",
     "text": [
      "(2270, 1) (253, 1)\n",
      "(253, 18) (2270, 18)\n",
      "(253, 1) (2270, 1)\n"
     ]
    },
    {
     "ename": "AttributeError",
     "evalue": "module 'pandas' has no attribute 'series'",
     "output_type": "error",
     "traceback": [
      "\u001b[0;31m---------------------------------------------------------------------------\u001b[0m",
      "\u001b[0;31mAttributeError\u001b[0m                            Traceback (most recent call last)",
      "\u001b[0;32m<ipython-input-76-52027e22075f>\u001b[0m in \u001b[0;36m<module>\u001b[0;34m()\u001b[0m\n\u001b[1;32m     50\u001b[0m \u001b[0;32mwhile\u001b[0m \u001b[0mep\u001b[0m \u001b[0;34m<\u001b[0m \u001b[0mEP\u001b[0m\u001b[0;34m:\u001b[0m\u001b[0;34m\u001b[0m\u001b[0m\n\u001b[1;32m     51\u001b[0m     \u001b[0mep\u001b[0m \u001b[0;34m+=\u001b[0m \u001b[0;36m1\u001b[0m\u001b[0;34m\u001b[0m\u001b[0m\n\u001b[0;32m---> 52\u001b[0;31m     \u001b[0my_train\u001b[0m \u001b[0;34m=\u001b[0m \u001b[0mpd\u001b[0m\u001b[0;34m.\u001b[0m\u001b[0mseries\u001b[0m\u001b[0;34m(\u001b[0m\u001b[0my_train\u001b[0m\u001b[0;34m)\u001b[0m\u001b[0;34m\u001b[0m\u001b[0m\n\u001b[0m\u001b[1;32m     53\u001b[0m     \u001b[0mprint\u001b[0m\u001b[0;34m(\u001b[0m\u001b[0myh\u001b[0m\u001b[0;34m.\u001b[0m\u001b[0mdtype\u001b[0m\u001b[0;34m,\u001b[0m\u001b[0my_train\u001b[0m\u001b[0;34m.\u001b[0m\u001b[0mdtype\u001b[0m\u001b[0;34m)\u001b[0m\u001b[0;34m\u001b[0m\u001b[0m\n\u001b[1;32m     54\u001b[0m     \u001b[0my_train\u001b[0m \u001b[0;34m=\u001b[0m \u001b[0mpd\u001b[0m\u001b[0;34m.\u001b[0m\u001b[0mto_numeric\u001b[0m\u001b[0;34m(\u001b[0m\u001b[0my_train\u001b[0m\u001b[0;34m,\u001b[0m \u001b[0merrors\u001b[0m\u001b[0;34m=\u001b[0m\u001b[0;34m'coerce'\u001b[0m\u001b[0;34m)\u001b[0m\u001b[0;34m\u001b[0m\u001b[0m\n",
      "\u001b[0;31mAttributeError\u001b[0m: module 'pandas' has no attribute 'series'"
     ]
    }
   ],
   "source": [
    "\n",
    "#data = read_data(FILENAME)\n",
    "#df = data[0:1].copy()\n",
    "#df = pd.to_numeric(df)\n",
    "#n = df.shape[0]\n",
    "#X,Y = molecular_descriptors(df)\n",
    "#print(df)\n",
    "#Y = df['EC_value']\n",
    "#Y = Y.values.reshape((X.shape[0],1))\n",
    "#X_train, X_mean, X_std = normalization(X_train)\n",
    "#X_train, X_test, Y_train, Y_test  = train_test_split(X,Y,test_size=0.1,random_state=1010)\n",
    "n_train = X_train.shape[0]\n",
    "n_test = X_test.shape[0]\n",
    "d = X_train.shape[1]\n",
    "\n",
    "hdnode = 100\n",
    "w1 = np.random.normal(0,0.001,d*hdnode).reshape((d,hdnode))\n",
    "d1 = np.zeros((d,hdnode))\n",
    "w2 = np.random.normal(0,0.001,hdnode).reshape((hdnode,1))\n",
    "d2 = np.zeros(hdnode)\n",
    "h  = np.zeros(hdnode)\n",
    "\n",
    "mb = 100 #minibatch size\n",
    "m = int(n_train/mb)\n",
    "batch = np.arange(m)\n",
    "lr = 0.00020\n",
    "EP = 20000\n",
    "ep = 0\n",
    "y = np.zeros((mb,1))\n",
    "yh = np.zeros((n_train,1))\n",
    "yh2 = np.zeros((n_test,1))\n",
    "L_train= np.zeros(EP+1)\n",
    "L_test = np.zeros(EP+1)\n",
    "\n",
    "L01_train = np.zeros((EP+1))\n",
    "L01_test = np.zeros((EP+1))\n",
    "\n",
    "#tanh\n",
    "def g(A):\n",
    "    return (np.tanh(A))\n",
    "\n",
    "def gd(A):\n",
    "    return (1-np.square(np.tanh(A)))\n",
    "    \n",
    "EP = 20000\n",
    "ep = 0\n",
    "print(yh.shape,yh2.shape)\n",
    "print(X_test.shape,X_train.shape)\n",
    "print(y_test.shape, y_train.shape )\n",
    "while ep < EP:\n",
    "    ep += 1\n",
    "    print(yh.dtype,y_train.dtype)\n",
    "    yh = g(X_train.dot(w1)).dot(w2)\n",
    "    yh2 = g(X_test.dot(w1)).dot(w2)\n",
    "\n",
    "    L_train[ep] = LA.norm(yh-y_train)/n_train\n",
    "    L_test[ep]  = LA.norm(yh2-y_test)/n_test\n",
    "    np.random.shuffle(batch)\n",
    "    \n",
    "    for i in range(m):\n",
    "        st = batch[i]*mb\n",
    "        ed = (batch[i]+1)*mb\n",
    "\n",
    "        h  = g(X_train[st:ed].dot(w1))\n",
    "        y = h.dot(w2)\n",
    "\n",
    "        d2 = h.T.dot(y_train[st:ed]-y)\n",
    "        d1 = X_train[st:ed].T.dot(np.multiply((y_train[st:ed]-y).dot(w2.T),gd(X_train[st:ed].dot(w1))))\n",
    "\n",
    "        w2 += lr*d2\n",
    "        w1 += lr*d1\n",
    "\n",
    "\n",
    "plt.figure(figsize=(10,5))\n",
    "plt.subplot(1,2,1)\n",
    "plt.scatter(y_train,yh,s=0.5,color='blue')\n",
    "plt.title('Prediction on training data')\n",
    "plt.plot(np.linspace(0,12,1000),np.linspace(0,12,1000),color='black')\n",
    "plt.xlim((0,12))\n",
    "plt.ylim((0,12))\n",
    "plt.xlabel(\"Experiment($S*m^2/mol$)\")\n",
    "plt.ylabel(\"Prediction($S*m^2/mol$)\")\n",
    "\n",
    "plt.subplot(1,2,2)\n",
    "plt.scatter(y_test,yh2,s=2,color='blue')\n",
    "plt.title('Prediction on test data')\n",
    "plt.xlim((0,12))\n",
    "plt.ylim((0,12))\n",
    "plt.xlabel(\"Experiment($S*m^2/mol$)\")\n",
    "plt.ylabel(\"Prediction($S*m^2/mol$)\")\n",
    "plt.plot(np.linspace(0,12,1000),np.linspace(0,12,1000),color='black')\n",
    "plt.show()\n"
   ]
  },
  {
   "cell_type": "code",
   "execution_count": null,
   "metadata": {
    "collapsed": false
   },
   "outputs": [],
   "source": [
    "regr = MLP(solver='sgd',activation='tanh',max_iter=10000000000,learning_rate_init=0.0002,hidden_layer_sizes=(100,),batch_size=100)\n",
    "regr.fit(X_train,y_train)\n",
    "\n",
    "result = pd.DataFrame(columns=['Experiment','Prediction','error'])\n",
    "pd.set_eng_float_format(accuracy=7, use_eng_prefix=True)\n",
    "result.Experiment = y_train.astype(float)\n",
    "result.Prediction = regr.predict(X_train)\n",
    "result.error = e_train.astype(float)\n",
    "result = result.sort_values(['Experiment','Prediction'],ascending=[1,1])\n",
    "size=0.2\n",
    "plt.figure(figsize=(6,4))\n",
    "plt.scatter(np.arange(X_train.shape[0]),result.Experiment,color=\"blue\",s=size)\n",
    "plt.scatter(np.arange(X_train.shape[0]),result.Prediction,color=\"red\",s=size)\n",
    "#print(result.Experiment.dtype, result.error.dtype)\n",
    "plt.scatter(np.arange(X_train.shape[0]),result.Experiment+result.error,color=\"green\",s=size)\n",
    "plt.scatter(np.arange(X_train.shape[0]),result.Experiment-result.error,color=\"green\",s=size)\n",
    "plt.xlim(0,3000\n",
    "plt.show()"
   ]
  },
  {
   "cell_type": "markdown",
   "metadata": {},
   "source": [
    "Feel free to look at the other examples that will be more explicit about the functions.  I hope you enjoy our package and use it to fit your needs!"
   ]
  }
 ],
 "metadata": {
  "anaconda-cloud": {},
  "kernelspec": {
   "display_name": "Python [default]",
   "language": "python",
   "name": "python3"
  },
  "language_info": {
   "codemirror_mode": {
    "name": "ipython",
    "version": 3
   },
   "file_extension": ".py",
   "mimetype": "text/x-python",
   "name": "python",
   "nbconvert_exporter": "python",
   "pygments_lexer": "ipython3",
   "version": "3.5.2"
  }
 },
 "nbformat": 4,
 "nbformat_minor": 2
}
