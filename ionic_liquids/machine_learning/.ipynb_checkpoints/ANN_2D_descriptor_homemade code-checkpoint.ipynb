{
 "cells": [
  {
   "cell_type": "code",
   "execution_count": 6,
   "metadata": {
    "collapsed": true
   },
   "outputs": [],
   "source": [
    "import numpy as np\n",
    "import matplotlib.pyplot as plt\n",
    "from sklearn.neural_network import MLPRegressor as MLP\n",
    "from sklearn.model_selection import train_test_split\n",
    "from sklearn.metrics import mean_squared_error as MSE\n",
    "from numpy import linalg as LA"
   ]
  },
  {
   "cell_type": "code",
   "execution_count": 7,
   "metadata": {
    "collapsed": false
   },
   "outputs": [
    {
     "name": "stdout",
     "output_type": "stream",
     "text": [
      "(2396, 191) (127, 191)\n",
      "(2396,) (127,)\n"
     ]
    }
   ],
   "source": [
    "X = np.genfromtxt('../datasets/2D_descriptors_X')\n",
    "Y = np.genfromtxt('../datasets/2D_descriptors_Y')\n",
    "X_train,X_test,Y_train,Y_test = train_test_split(X,Y,test_size=0.05,random_state=1010)\n",
    "print(X_train.shape,X_test.shape)\n",
    "print(Y_train.shape,Y_test.shape)\n",
    "n_train = X_train.shape[0]\n",
    "n_test = X_test.shape[0]\n",
    "d = X_train.shape[1]"
   ]
  },
  {
   "cell_type": "code",
   "execution_count": 8,
   "metadata": {
    "collapsed": false
   },
   "outputs": [
    {
     "name": "stdout",
     "output_type": "stream",
     "text": [
      "0 3.06257772715 3.14987573364\n"
     ]
    },
    {
     "ename": "ValueError",
     "evalue": "shapes (3,3) and (1,300) not aligned: 3 (dim 1) != 1 (dim 0)",
     "output_type": "error",
     "traceback": [
      "\u001b[0;31m---------------------------------------------------------------------------\u001b[0m",
      "\u001b[0;31mValueError\u001b[0m                                Traceback (most recent call last)",
      "\u001b[0;32m<ipython-input-8-ab51a886dbea>\u001b[0m in \u001b[0;36m<module>\u001b[0;34m()\u001b[0m\n\u001b[1;32m     52\u001b[0m \u001b[0;34m\u001b[0m\u001b[0m\n\u001b[1;32m     53\u001b[0m         \u001b[0md2\u001b[0m \u001b[0;34m=\u001b[0m \u001b[0mh\u001b[0m\u001b[0;34m.\u001b[0m\u001b[0mT\u001b[0m\u001b[0;34m.\u001b[0m\u001b[0mdot\u001b[0m\u001b[0;34m(\u001b[0m\u001b[0mY_train\u001b[0m\u001b[0;34m[\u001b[0m\u001b[0mst\u001b[0m\u001b[0;34m:\u001b[0m\u001b[0med\u001b[0m\u001b[0;34m]\u001b[0m\u001b[0;34m-\u001b[0m\u001b[0my\u001b[0m\u001b[0;34m)\u001b[0m\u001b[0;34m\u001b[0m\u001b[0m\n\u001b[0;32m---> 54\u001b[0;31m         \u001b[0md1\u001b[0m \u001b[0;34m=\u001b[0m \u001b[0mX_train\u001b[0m\u001b[0;34m[\u001b[0m\u001b[0mst\u001b[0m\u001b[0;34m:\u001b[0m\u001b[0med\u001b[0m\u001b[0;34m]\u001b[0m\u001b[0;34m.\u001b[0m\u001b[0mT\u001b[0m\u001b[0;34m.\u001b[0m\u001b[0mdot\u001b[0m\u001b[0;34m(\u001b[0m\u001b[0mnp\u001b[0m\u001b[0;34m.\u001b[0m\u001b[0mmultiply\u001b[0m\u001b[0;34m(\u001b[0m\u001b[0;34m(\u001b[0m\u001b[0mY_train\u001b[0m\u001b[0;34m[\u001b[0m\u001b[0mst\u001b[0m\u001b[0;34m:\u001b[0m\u001b[0med\u001b[0m\u001b[0;34m]\u001b[0m\u001b[0;34m-\u001b[0m\u001b[0my\u001b[0m\u001b[0;34m)\u001b[0m\u001b[0;34m.\u001b[0m\u001b[0mdot\u001b[0m\u001b[0;34m(\u001b[0m\u001b[0mw2\u001b[0m\u001b[0;34m.\u001b[0m\u001b[0mT\u001b[0m\u001b[0;34m)\u001b[0m\u001b[0;34m,\u001b[0m\u001b[0mgd\u001b[0m\u001b[0;34m(\u001b[0m\u001b[0mX_train\u001b[0m\u001b[0;34m[\u001b[0m\u001b[0mst\u001b[0m\u001b[0;34m:\u001b[0m\u001b[0med\u001b[0m\u001b[0;34m]\u001b[0m\u001b[0;34m.\u001b[0m\u001b[0mdot\u001b[0m\u001b[0;34m(\u001b[0m\u001b[0mw1\u001b[0m\u001b[0;34m)\u001b[0m\u001b[0;34m)\u001b[0m\u001b[0;34m)\u001b[0m\u001b[0;34m)\u001b[0m\u001b[0;34m\u001b[0m\u001b[0m\n\u001b[0m\u001b[1;32m     55\u001b[0m \u001b[0;34m\u001b[0m\u001b[0m\n\u001b[1;32m     56\u001b[0m         \u001b[0mw2\u001b[0m \u001b[0;34m+=\u001b[0m \u001b[0mlr\u001b[0m\u001b[0;34m*\u001b[0m\u001b[0md2\u001b[0m\u001b[0;34m\u001b[0m\u001b[0m\n",
      "\u001b[0;31mValueError\u001b[0m: shapes (3,3) and (1,300) not aligned: 3 (dim 1) != 1 (dim 0)"
     ]
    }
   ],
   "source": [
    "#initializing weight for first layer(w1) and second\n",
    "#Parameters\n",
    "hdnode = 300\n",
    "w1 = np.random.normal(0,0.001,d*hdnode).reshape((d,hdnode))\n",
    "d1 = np.zeros((d,hdnode))\n",
    "w2 = np.random.normal(0,0.001,hdnode).reshape((hdnode,1))\n",
    "d2 = np.zeros(hdnode)\n",
    "h  = np.zeros(hdnode)\n",
    "              \n",
    "mb = 3 #minibatch size\n",
    "m = int(n_train/mb)\n",
    "batch = np.arange(m)\n",
    "lr = 0.001\n",
    "EP = 1000\n",
    "samp = 10000\n",
    "y = np.zeros((mb,1))\n",
    "yh = np.zeros((n_train,1))\n",
    "yh2 = np.zeros((n_test,1))\n",
    "\n",
    "L_train= np.zeros(EP+1)\n",
    "L_test = np.zeros(EP+1)\n",
    "\n",
    "L01_train = np.zeros((EP+1))\n",
    "L01_test = np.zeros((EP+1))\n",
    "\n",
    "#Training the neural network\n",
    "def g(A):\n",
    "    return (np.maximum(A,0))\n",
    "\n",
    "def gd(A):\n",
    "    return (np.minimum(np.maximum(A,0),1))\n",
    "\n",
    "\n",
    "for ep in range(EP):\n",
    "    #print(ep)\n",
    "\n",
    "    yh = g(X_train.dot(w1)).dot(w2)\n",
    "    yh2 = g(X_test.dot(w1)).dot(w2)\n",
    "        \n",
    "    L_train[ep] = LA.norm(yh-Y_train)/n_train\n",
    "    L_test[ep]  = LA.norm(yh2-Y_test)/n_test\n",
    "    \n",
    "    print(ep,L_train[ep],L_test[ep])\n",
    "        \n",
    "    np.random.shuffle(batch)\n",
    "    for i in range(m):\n",
    "        st = batch[i]*mb\n",
    "        ed = (batch[i]+1)*mb\n",
    "        \n",
    "        h  = g(X_train[st:ed].dot(w1))\n",
    "        y = h.dot(w2)\n",
    "\n",
    "        d2 = h.T.dot(Y_train[st:ed]-y)\n",
    "        d1 = X_train[st:ed].T.dot(np.multiply((Y_train[st:ed]-y).dot(w2.T),gd(X_train[st:ed].dot(w1))))\n",
    "        \n",
    "        w2 += lr*d2\n",
    "        w1 += lr*d1"
   ]
  },
  {
   "cell_type": "code",
   "execution_count": null,
   "metadata": {
    "collapsed": true
   },
   "outputs": [],
   "source": []
  }
 ],
 "metadata": {
  "anaconda-cloud": {},
  "kernelspec": {
   "display_name": "Python [conda root]",
   "language": "python",
   "name": "conda-root-py"
  },
  "language_info": {
   "codemirror_mode": {
    "name": "ipython",
    "version": 3
   },
   "file_extension": ".py",
   "mimetype": "text/x-python",
   "name": "python",
   "nbconvert_exporter": "python",
   "pygments_lexer": "ipython3",
   "version": "3.5.2"
  }
 },
 "nbformat": 4,
 "nbformat_minor": 1
}
